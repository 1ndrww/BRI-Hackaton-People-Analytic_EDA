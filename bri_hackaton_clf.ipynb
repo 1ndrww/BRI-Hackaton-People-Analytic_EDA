{
  "nbformat": 4,
  "nbformat_minor": 0,
  "metadata": {
    "colab": {
      "name": "bri-hackaton clf.ipynb",
      "provenance": [],
      "collapsed_sections": []
    },
    "kernelspec": {
      "name": "python3",
      "display_name": "Python 3"
    },
    "widgets": {
      "application/vnd.jupyter.widget-state+json": {
        "e32ffda9cbcc4cfd9ffe312c472da626": {
          "model_module": "@jupyter-widgets/controls",
          "model_name": "VBoxModel",
          "state": {
            "_view_name": "VBoxView",
            "_dom_classes": [
              "widget-interact"
            ],
            "_model_name": "VBoxModel",
            "_view_module": "@jupyter-widgets/controls",
            "_model_module_version": "1.5.0",
            "_view_count": null,
            "_view_module_version": "1.5.0",
            "box_style": "",
            "layout": "IPY_MODEL_6a6c1e0f80f84dd281006da8b1a1b16e",
            "_model_module": "@jupyter-widgets/controls",
            "children": [
              "IPY_MODEL_1e656e89bf74417c8dac76656f693454",
              "IPY_MODEL_712ad5072ad24433aa6edbc03270325a"
            ]
          }
        },
        "6a6c1e0f80f84dd281006da8b1a1b16e": {
          "model_module": "@jupyter-widgets/base",
          "model_name": "LayoutModel",
          "state": {
            "_view_name": "LayoutView",
            "grid_template_rows": null,
            "right": null,
            "justify_content": null,
            "_view_module": "@jupyter-widgets/base",
            "overflow": null,
            "_model_module_version": "1.2.0",
            "_view_count": null,
            "flex_flow": null,
            "width": null,
            "min_width": null,
            "border": null,
            "align_items": null,
            "bottom": null,
            "_model_module": "@jupyter-widgets/base",
            "top": null,
            "grid_column": null,
            "overflow_y": null,
            "overflow_x": null,
            "grid_auto_flow": null,
            "grid_area": null,
            "grid_template_columns": null,
            "flex": null,
            "_model_name": "LayoutModel",
            "justify_items": null,
            "grid_row": null,
            "max_height": null,
            "align_content": null,
            "visibility": null,
            "align_self": null,
            "height": null,
            "min_height": null,
            "padding": null,
            "grid_auto_rows": null,
            "grid_gap": null,
            "max_width": null,
            "order": null,
            "_view_module_version": "1.2.0",
            "grid_template_areas": null,
            "object_position": null,
            "object_fit": null,
            "grid_auto_columns": null,
            "margin": null,
            "display": null,
            "left": null
          }
        },
        "1e656e89bf74417c8dac76656f693454": {
          "model_module": "@jupyter-widgets/controls",
          "model_name": "ToggleButtonsModel",
          "state": {
            "_options_labels": [
              "Cramer's V",
              "Proficiency U(X|Y)",
              "Proficiency U(Y|X)",
              "Symmetric Proficiency"
            ],
            "_view_name": "ToggleButtonsView",
            "style": "IPY_MODEL_a974440cfb31432ba62b388755da9471",
            "_dom_classes": [],
            "description": "method",
            "_model_name": "ToggleButtonsModel",
            "tooltips": [],
            "index": 0,
            "button_style": "",
            "_view_module": "@jupyter-widgets/controls",
            "_model_module_version": "1.5.0",
            "_view_count": null,
            "disabled": false,
            "_view_module_version": "1.5.0",
            "icons": [],
            "description_tooltip": null,
            "_model_module": "@jupyter-widgets/controls",
            "layout": "IPY_MODEL_59c0e1f9911f4a04bcb843281f1cd5ee"
          }
        },
        "712ad5072ad24433aa6edbc03270325a": {
          "model_module": "@jupyter-widgets/output",
          "model_name": "OutputModel",
          "state": {
            "_view_name": "OutputView",
            "msg_id": "",
            "_dom_classes": [],
            "_model_name": "OutputModel",
            "outputs": [
              {
                "output_type": "display_data",
                "metadata": {
                  "tags": []
                },
                "application/vnd.jupyter.widget-view+json": {
                  "model_id": "fdba3337c64a48bcb2b18a9ba0b4fc6e",
                  "version_minor": 0,
                  "version_major": 2
                },
                "text/plain": "interactive(children=(FloatSlider(value=0.0, description='threshold', max=1.0), Output()), _dom_classes=('widg…"
              }
            ],
            "_view_module": "@jupyter-widgets/output",
            "_model_module_version": "1.0.0",
            "_view_count": null,
            "_view_module_version": "1.0.0",
            "layout": "IPY_MODEL_8771e0627c6c428a8f888f4a41e0dbd4",
            "_model_module": "@jupyter-widgets/output"
          }
        },
        "a974440cfb31432ba62b388755da9471": {
          "model_module": "@jupyter-widgets/controls",
          "model_name": "ToggleButtonsStyleModel",
          "state": {
            "_view_name": "StyleView",
            "button_width": "",
            "_model_name": "ToggleButtonsStyleModel",
            "description_width": "",
            "_view_module": "@jupyter-widgets/base",
            "_model_module_version": "1.5.0",
            "_view_count": null,
            "font_weight": "",
            "_view_module_version": "1.2.0",
            "_model_module": "@jupyter-widgets/controls"
          }
        },
        "59c0e1f9911f4a04bcb843281f1cd5ee": {
          "model_module": "@jupyter-widgets/base",
          "model_name": "LayoutModel",
          "state": {
            "_view_name": "LayoutView",
            "grid_template_rows": null,
            "right": null,
            "justify_content": null,
            "_view_module": "@jupyter-widgets/base",
            "overflow": null,
            "_model_module_version": "1.2.0",
            "_view_count": null,
            "flex_flow": null,
            "width": null,
            "min_width": null,
            "border": null,
            "align_items": null,
            "bottom": null,
            "_model_module": "@jupyter-widgets/base",
            "top": null,
            "grid_column": null,
            "overflow_y": null,
            "overflow_x": null,
            "grid_auto_flow": null,
            "grid_area": null,
            "grid_template_columns": null,
            "flex": null,
            "_model_name": "LayoutModel",
            "justify_items": null,
            "grid_row": null,
            "max_height": null,
            "align_content": null,
            "visibility": null,
            "align_self": null,
            "height": null,
            "min_height": null,
            "padding": null,
            "grid_auto_rows": null,
            "grid_gap": null,
            "max_width": null,
            "order": null,
            "_view_module_version": "1.2.0",
            "grid_template_areas": null,
            "object_position": null,
            "object_fit": null,
            "grid_auto_columns": null,
            "margin": null,
            "display": null,
            "left": null
          }
        },
        "fdba3337c64a48bcb2b18a9ba0b4fc6e": {
          "model_module": "@jupyter-widgets/controls",
          "model_name": "VBoxModel",
          "state": {
            "_view_name": "VBoxView",
            "_dom_classes": [
              "widget-interact"
            ],
            "_model_name": "VBoxModel",
            "_view_module": "@jupyter-widgets/controls",
            "_model_module_version": "1.5.0",
            "_view_count": null,
            "_view_module_version": "1.5.0",
            "box_style": "",
            "layout": "IPY_MODEL_f55d5322a6cb4ef6808b09bd8497719d",
            "_model_module": "@jupyter-widgets/controls",
            "children": [
              "IPY_MODEL_b894f03a075f4bc2bfa222f6c6a5315d",
              "IPY_MODEL_08808ae9ea2d4d54b7093fcdfea10887"
            ]
          }
        },
        "8771e0627c6c428a8f888f4a41e0dbd4": {
          "model_module": "@jupyter-widgets/base",
          "model_name": "LayoutModel",
          "state": {
            "_view_name": "LayoutView",
            "grid_template_rows": null,
            "right": null,
            "justify_content": null,
            "_view_module": "@jupyter-widgets/base",
            "overflow": null,
            "_model_module_version": "1.2.0",
            "_view_count": null,
            "flex_flow": null,
            "width": null,
            "min_width": null,
            "border": null,
            "align_items": null,
            "bottom": null,
            "_model_module": "@jupyter-widgets/base",
            "top": null,
            "grid_column": null,
            "overflow_y": null,
            "overflow_x": null,
            "grid_auto_flow": null,
            "grid_area": null,
            "grid_template_columns": null,
            "flex": null,
            "_model_name": "LayoutModel",
            "justify_items": null,
            "grid_row": null,
            "max_height": null,
            "align_content": null,
            "visibility": null,
            "align_self": null,
            "height": null,
            "min_height": null,
            "padding": null,
            "grid_auto_rows": null,
            "grid_gap": null,
            "max_width": null,
            "order": null,
            "_view_module_version": "1.2.0",
            "grid_template_areas": null,
            "object_position": null,
            "object_fit": null,
            "grid_auto_columns": null,
            "margin": null,
            "display": null,
            "left": null
          }
        },
        "f55d5322a6cb4ef6808b09bd8497719d": {
          "model_module": "@jupyter-widgets/base",
          "model_name": "LayoutModel",
          "state": {
            "_view_name": "LayoutView",
            "grid_template_rows": null,
            "right": null,
            "justify_content": null,
            "_view_module": "@jupyter-widgets/base",
            "overflow": null,
            "_model_module_version": "1.2.0",
            "_view_count": null,
            "flex_flow": null,
            "width": null,
            "min_width": null,
            "border": null,
            "align_items": null,
            "bottom": null,
            "_model_module": "@jupyter-widgets/base",
            "top": null,
            "grid_column": null,
            "overflow_y": null,
            "overflow_x": null,
            "grid_auto_flow": null,
            "grid_area": null,
            "grid_template_columns": null,
            "flex": null,
            "_model_name": "LayoutModel",
            "justify_items": null,
            "grid_row": null,
            "max_height": null,
            "align_content": null,
            "visibility": null,
            "align_self": null,
            "height": null,
            "min_height": null,
            "padding": null,
            "grid_auto_rows": null,
            "grid_gap": null,
            "max_width": null,
            "order": null,
            "_view_module_version": "1.2.0",
            "grid_template_areas": null,
            "object_position": null,
            "object_fit": null,
            "grid_auto_columns": null,
            "margin": null,
            "display": null,
            "left": null
          }
        },
        "b894f03a075f4bc2bfa222f6c6a5315d": {
          "model_module": "@jupyter-widgets/controls",
          "model_name": "FloatSliderModel",
          "state": {
            "_view_name": "FloatSliderView",
            "style": "IPY_MODEL_957501d28dc34b0fb4421f3377ebca6c",
            "_dom_classes": [],
            "description": "threshold",
            "step": 0.1,
            "_model_name": "FloatSliderModel",
            "orientation": "horizontal",
            "max": 1,
            "_view_module": "@jupyter-widgets/controls",
            "_model_module_version": "1.5.0",
            "value": 0,
            "_view_count": null,
            "disabled": false,
            "_view_module_version": "1.5.0",
            "min": 0,
            "continuous_update": true,
            "readout_format": ".2f",
            "description_tooltip": null,
            "readout": true,
            "_model_module": "@jupyter-widgets/controls",
            "layout": "IPY_MODEL_aad2ed6ce04e49469d4ba888a1f04f68"
          }
        },
        "08808ae9ea2d4d54b7093fcdfea10887": {
          "model_module": "@jupyter-widgets/output",
          "model_name": "OutputModel",
          "state": {
            "_view_name": "OutputView",
            "msg_id": "",
            "_dom_classes": [],
            "_model_name": "OutputModel",
            "outputs": [
              {
                "output_type": "display_data",
                "metadata": {
                  "tags": [],
                  "needs_background": "light"
                },
                "image/png": "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\n",
                "text/plain": "<Figure size 1080x504 with 2 Axes>"
              }
            ],
            "_view_module": "@jupyter-widgets/output",
            "_model_module_version": "1.0.0",
            "_view_count": null,
            "_view_module_version": "1.0.0",
            "layout": "IPY_MODEL_d906f1f7033e42e8a360987d1ad919c5",
            "_model_module": "@jupyter-widgets/output"
          }
        },
        "957501d28dc34b0fb4421f3377ebca6c": {
          "model_module": "@jupyter-widgets/controls",
          "model_name": "SliderStyleModel",
          "state": {
            "_view_name": "StyleView",
            "handle_color": null,
            "_model_name": "SliderStyleModel",
            "description_width": "",
            "_view_module": "@jupyter-widgets/base",
            "_model_module_version": "1.5.0",
            "_view_count": null,
            "_view_module_version": "1.2.0",
            "_model_module": "@jupyter-widgets/controls"
          }
        },
        "aad2ed6ce04e49469d4ba888a1f04f68": {
          "model_module": "@jupyter-widgets/base",
          "model_name": "LayoutModel",
          "state": {
            "_view_name": "LayoutView",
            "grid_template_rows": null,
            "right": null,
            "justify_content": null,
            "_view_module": "@jupyter-widgets/base",
            "overflow": null,
            "_model_module_version": "1.2.0",
            "_view_count": null,
            "flex_flow": null,
            "width": null,
            "min_width": null,
            "border": null,
            "align_items": null,
            "bottom": null,
            "_model_module": "@jupyter-widgets/base",
            "top": null,
            "grid_column": null,
            "overflow_y": null,
            "overflow_x": null,
            "grid_auto_flow": null,
            "grid_area": null,
            "grid_template_columns": null,
            "flex": null,
            "_model_name": "LayoutModel",
            "justify_items": null,
            "grid_row": null,
            "max_height": null,
            "align_content": null,
            "visibility": null,
            "align_self": null,
            "height": null,
            "min_height": null,
            "padding": null,
            "grid_auto_rows": null,
            "grid_gap": null,
            "max_width": null,
            "order": null,
            "_view_module_version": "1.2.0",
            "grid_template_areas": null,
            "object_position": null,
            "object_fit": null,
            "grid_auto_columns": null,
            "margin": null,
            "display": null,
            "left": null
          }
        },
        "d906f1f7033e42e8a360987d1ad919c5": {
          "model_module": "@jupyter-widgets/base",
          "model_name": "LayoutModel",
          "state": {
            "_view_name": "LayoutView",
            "grid_template_rows": null,
            "right": null,
            "justify_content": null,
            "_view_module": "@jupyter-widgets/base",
            "overflow": null,
            "_model_module_version": "1.2.0",
            "_view_count": null,
            "flex_flow": null,
            "width": null,
            "min_width": null,
            "border": null,
            "align_items": null,
            "bottom": null,
            "_model_module": "@jupyter-widgets/base",
            "top": null,
            "grid_column": null,
            "overflow_y": null,
            "overflow_x": null,
            "grid_auto_flow": null,
            "grid_area": null,
            "grid_template_columns": null,
            "flex": null,
            "_model_name": "LayoutModel",
            "justify_items": null,
            "grid_row": null,
            "max_height": null,
            "align_content": null,
            "visibility": null,
            "align_self": null,
            "height": null,
            "min_height": null,
            "padding": null,
            "grid_auto_rows": null,
            "grid_gap": null,
            "max_width": null,
            "order": null,
            "_view_module_version": "1.2.0",
            "grid_template_areas": null,
            "object_position": null,
            "object_fit": null,
            "grid_auto_columns": null,
            "margin": null,
            "display": null,
            "left": null
          }
        }
      }
    }
  },
  "cells": [
    {
      "cell_type": "markdown",
      "metadata": {
        "id": "no1O9kwvb9lF"
      },
      "source": [
        "**IMPORT PACKAGE JCOPML**"
      ]
    },
    {
      "cell_type": "code",
      "metadata": {
        "colab": {
          "base_uri": "https://localhost:8080/"
        },
        "id": "qf83IHEZlf9z",
        "outputId": "db254d2c-211e-4dc0-dc89-23078aa97055"
      },
      "source": [
        "!pip install jcopml"
      ],
      "execution_count": 1,
      "outputs": [
        {
          "output_type": "stream",
          "text": [
            "Collecting jcopml\n",
            "  Downloading https://files.pythonhosted.org/packages/c9/18/dbcdc47e1fdeee2271701a192cc1bae0ea3d10d8694e873bc12f936a850b/jcopml-1.1.10.tar.gz\n",
            "Requirement already satisfied: numpy in /usr/local/lib/python3.7/dist-packages (from jcopml) (1.19.5)\n",
            "Requirement already satisfied: scipy in /usr/local/lib/python3.7/dist-packages (from jcopml) (1.4.1)\n",
            "Requirement already satisfied: pandas in /usr/local/lib/python3.7/dist-packages (from jcopml) (1.1.5)\n",
            "Requirement already satisfied: scikit-learn in /usr/local/lib/python3.7/dist-packages (from jcopml) (0.22.2.post1)\n",
            "Requirement already satisfied: matplotlib in /usr/local/lib/python3.7/dist-packages (from jcopml) (3.2.2)\n",
            "Requirement already satisfied: seaborn in /usr/local/lib/python3.7/dist-packages (from jcopml) (0.11.1)\n",
            "Collecting scikit-optimize\n",
            "\u001b[?25l  Downloading https://files.pythonhosted.org/packages/8b/03/be33e89f55866065a02e515c5b319304a801a9f1027a9b311a9b1d1f8dc7/scikit_optimize-0.8.1-py2.py3-none-any.whl (101kB)\n",
            "\u001b[K     |████████████████████████████████| 102kB 4.2MB/s \n",
            "\u001b[?25hRequirement already satisfied: ipywidgets in /usr/local/lib/python3.7/dist-packages (from jcopml) (7.6.3)\n",
            "Requirement already satisfied: statsmodels in /usr/local/lib/python3.7/dist-packages (from jcopml) (0.10.2)\n",
            "Requirement already satisfied: pytz>=2017.2 in /usr/local/lib/python3.7/dist-packages (from pandas->jcopml) (2018.9)\n",
            "Requirement already satisfied: python-dateutil>=2.7.3 in /usr/local/lib/python3.7/dist-packages (from pandas->jcopml) (2.8.1)\n",
            "Requirement already satisfied: joblib>=0.11 in /usr/local/lib/python3.7/dist-packages (from scikit-learn->jcopml) (1.0.1)\n",
            "Requirement already satisfied: cycler>=0.10 in /usr/local/lib/python3.7/dist-packages (from matplotlib->jcopml) (0.10.0)\n",
            "Requirement already satisfied: kiwisolver>=1.0.1 in /usr/local/lib/python3.7/dist-packages (from matplotlib->jcopml) (1.3.1)\n",
            "Requirement already satisfied: pyparsing!=2.0.4,!=2.1.2,!=2.1.6,>=2.0.1 in /usr/local/lib/python3.7/dist-packages (from matplotlib->jcopml) (2.4.7)\n",
            "Collecting pyaml>=16.9\n",
            "  Downloading https://files.pythonhosted.org/packages/15/c4/1310a054d33abc318426a956e7d6df0df76a6ddfa9c66f6310274fb75d42/pyaml-20.4.0-py2.py3-none-any.whl\n",
            "Requirement already satisfied: ipython>=4.0.0; python_version >= \"3.3\" in /usr/local/lib/python3.7/dist-packages (from ipywidgets->jcopml) (5.5.0)\n",
            "Requirement already satisfied: traitlets>=4.3.1 in /usr/local/lib/python3.7/dist-packages (from ipywidgets->jcopml) (5.0.5)\n",
            "Requirement already satisfied: nbformat>=4.2.0 in /usr/local/lib/python3.7/dist-packages (from ipywidgets->jcopml) (5.1.2)\n",
            "Requirement already satisfied: jupyterlab-widgets>=1.0.0; python_version >= \"3.6\" in /usr/local/lib/python3.7/dist-packages (from ipywidgets->jcopml) (1.0.0)\n",
            "Requirement already satisfied: ipykernel>=4.5.1 in /usr/local/lib/python3.7/dist-packages (from ipywidgets->jcopml) (4.10.1)\n",
            "Requirement already satisfied: widgetsnbextension~=3.5.0 in /usr/local/lib/python3.7/dist-packages (from ipywidgets->jcopml) (3.5.1)\n",
            "Requirement already satisfied: patsy>=0.4.0 in /usr/local/lib/python3.7/dist-packages (from statsmodels->jcopml) (0.5.1)\n",
            "Requirement already satisfied: six>=1.5 in /usr/local/lib/python3.7/dist-packages (from python-dateutil>=2.7.3->pandas->jcopml) (1.15.0)\n",
            "Requirement already satisfied: PyYAML in /usr/local/lib/python3.7/dist-packages (from pyaml>=16.9->scikit-optimize->jcopml) (3.13)\n",
            "Requirement already satisfied: setuptools>=18.5 in /usr/local/lib/python3.7/dist-packages (from ipython>=4.0.0; python_version >= \"3.3\"->ipywidgets->jcopml) (54.0.0)\n",
            "Requirement already satisfied: decorator in /usr/local/lib/python3.7/dist-packages (from ipython>=4.0.0; python_version >= \"3.3\"->ipywidgets->jcopml) (4.4.2)\n",
            "Requirement already satisfied: simplegeneric>0.8 in /usr/local/lib/python3.7/dist-packages (from ipython>=4.0.0; python_version >= \"3.3\"->ipywidgets->jcopml) (0.8.1)\n",
            "Requirement already satisfied: prompt-toolkit<2.0.0,>=1.0.4 in /usr/local/lib/python3.7/dist-packages (from ipython>=4.0.0; python_version >= \"3.3\"->ipywidgets->jcopml) (1.0.18)\n",
            "Requirement already satisfied: pygments in /usr/local/lib/python3.7/dist-packages (from ipython>=4.0.0; python_version >= \"3.3\"->ipywidgets->jcopml) (2.6.1)\n",
            "Requirement already satisfied: pexpect; sys_platform != \"win32\" in /usr/local/lib/python3.7/dist-packages (from ipython>=4.0.0; python_version >= \"3.3\"->ipywidgets->jcopml) (4.8.0)\n",
            "Requirement already satisfied: pickleshare in /usr/local/lib/python3.7/dist-packages (from ipython>=4.0.0; python_version >= \"3.3\"->ipywidgets->jcopml) (0.7.5)\n",
            "Requirement already satisfied: ipython-genutils in /usr/local/lib/python3.7/dist-packages (from traitlets>=4.3.1->ipywidgets->jcopml) (0.2.0)\n",
            "Requirement already satisfied: jsonschema!=2.5.0,>=2.4 in /usr/local/lib/python3.7/dist-packages (from nbformat>=4.2.0->ipywidgets->jcopml) (2.6.0)\n",
            "Requirement already satisfied: jupyter-core in /usr/local/lib/python3.7/dist-packages (from nbformat>=4.2.0->ipywidgets->jcopml) (4.7.1)\n",
            "Requirement already satisfied: tornado>=4.0 in /usr/local/lib/python3.7/dist-packages (from ipykernel>=4.5.1->ipywidgets->jcopml) (5.1.1)\n",
            "Requirement already satisfied: jupyter-client in /usr/local/lib/python3.7/dist-packages (from ipykernel>=4.5.1->ipywidgets->jcopml) (5.3.5)\n",
            "Requirement already satisfied: notebook>=4.4.1 in /usr/local/lib/python3.7/dist-packages (from widgetsnbextension~=3.5.0->ipywidgets->jcopml) (5.3.1)\n",
            "Requirement already satisfied: wcwidth in /usr/local/lib/python3.7/dist-packages (from prompt-toolkit<2.0.0,>=1.0.4->ipython>=4.0.0; python_version >= \"3.3\"->ipywidgets->jcopml) (0.2.5)\n",
            "Requirement already satisfied: ptyprocess>=0.5 in /usr/local/lib/python3.7/dist-packages (from pexpect; sys_platform != \"win32\"->ipython>=4.0.0; python_version >= \"3.3\"->ipywidgets->jcopml) (0.7.0)\n",
            "Requirement already satisfied: pyzmq>=13 in /usr/local/lib/python3.7/dist-packages (from jupyter-client->ipykernel>=4.5.1->ipywidgets->jcopml) (22.0.3)\n",
            "Requirement already satisfied: Send2Trash in /usr/local/lib/python3.7/dist-packages (from notebook>=4.4.1->widgetsnbextension~=3.5.0->ipywidgets->jcopml) (1.5.0)\n",
            "Requirement already satisfied: terminado>=0.8.1 in /usr/local/lib/python3.7/dist-packages (from notebook>=4.4.1->widgetsnbextension~=3.5.0->ipywidgets->jcopml) (0.9.2)\n",
            "Requirement already satisfied: jinja2 in /usr/local/lib/python3.7/dist-packages (from notebook>=4.4.1->widgetsnbextension~=3.5.0->ipywidgets->jcopml) (2.11.3)\n",
            "Requirement already satisfied: nbconvert in /usr/local/lib/python3.7/dist-packages (from notebook>=4.4.1->widgetsnbextension~=3.5.0->ipywidgets->jcopml) (5.6.1)\n",
            "Requirement already satisfied: MarkupSafe>=0.23 in /usr/local/lib/python3.7/dist-packages (from jinja2->notebook>=4.4.1->widgetsnbextension~=3.5.0->ipywidgets->jcopml) (1.1.1)\n",
            "Requirement already satisfied: testpath in /usr/local/lib/python3.7/dist-packages (from nbconvert->notebook>=4.4.1->widgetsnbextension~=3.5.0->ipywidgets->jcopml) (0.4.4)\n",
            "Requirement already satisfied: pandocfilters>=1.4.1 in /usr/local/lib/python3.7/dist-packages (from nbconvert->notebook>=4.4.1->widgetsnbextension~=3.5.0->ipywidgets->jcopml) (1.4.3)\n",
            "Requirement already satisfied: bleach in /usr/local/lib/python3.7/dist-packages (from nbconvert->notebook>=4.4.1->widgetsnbextension~=3.5.0->ipywidgets->jcopml) (3.3.0)\n",
            "Requirement already satisfied: defusedxml in /usr/local/lib/python3.7/dist-packages (from nbconvert->notebook>=4.4.1->widgetsnbextension~=3.5.0->ipywidgets->jcopml) (0.6.0)\n",
            "Requirement already satisfied: mistune<2,>=0.8.1 in /usr/local/lib/python3.7/dist-packages (from nbconvert->notebook>=4.4.1->widgetsnbextension~=3.5.0->ipywidgets->jcopml) (0.8.4)\n",
            "Requirement already satisfied: entrypoints>=0.2.2 in /usr/local/lib/python3.7/dist-packages (from nbconvert->notebook>=4.4.1->widgetsnbextension~=3.5.0->ipywidgets->jcopml) (0.3)\n",
            "Requirement already satisfied: webencodings in /usr/local/lib/python3.7/dist-packages (from bleach->nbconvert->notebook>=4.4.1->widgetsnbextension~=3.5.0->ipywidgets->jcopml) (0.5.1)\n",
            "Requirement already satisfied: packaging in /usr/local/lib/python3.7/dist-packages (from bleach->nbconvert->notebook>=4.4.1->widgetsnbextension~=3.5.0->ipywidgets->jcopml) (20.9)\n",
            "Building wheels for collected packages: jcopml\n",
            "  Building wheel for jcopml (setup.py) ... \u001b[?25l\u001b[?25hdone\n",
            "  Created wheel for jcopml: filename=jcopml-1.1.10-py2.py3-none-any.whl size=33230 sha256=6a6d8e338f9ac17f86cac4e95ab104239fa5e32e7c6d54a93418412d641c173e\n",
            "  Stored in directory: /root/.cache/pip/wheels/82/22/ce/b8b4c3400f788e5050b5b4b4d988884b8ec72b6b8751693914\n",
            "Successfully built jcopml\n",
            "Installing collected packages: pyaml, scikit-optimize, jcopml\n",
            "Successfully installed jcopml-1.1.10 pyaml-20.4.0 scikit-optimize-0.8.1\n"
          ],
          "name": "stdout"
        }
      ]
    },
    {
      "cell_type": "code",
      "metadata": {
        "id": "Yhf09Nb2bIbO"
      },
      "source": [
        ""
      ],
      "execution_count": 8,
      "outputs": []
    },
    {
      "cell_type": "markdown",
      "metadata": {
        "id": "PPn1rOSQcDh9"
      },
      "source": [
        "**IMPORT COMMON PACKAGE**"
      ]
    },
    {
      "cell_type": "code",
      "metadata": {
        "id": "Zh-BpytjlrSx"
      },
      "source": [
        "import numpy as np\r\n",
        "import pandas as pd\r\n",
        "\r\n",
        "from sklearn.model_selection import train_test_split\r\n",
        "from sklearn.pipeline import Pipeline\r\n",
        "from sklearn.compose import ColumnTransformer\r\n",
        "\r\n",
        "from jcopml.pipeline import num_pipe, cat_pipe\r\n",
        "from jcopml.utils import save_model, load_model\r\n",
        "from jcopml.plot import plot_missing_value\r\n",
        "from jcopml.feature_importance import mean_score_decrease\r\n",
        "pd.options.display.max_columns =300\r\n",
        "\r\n",
        "import matplotlib.pyplot as plt\r\n",
        "import seaborn as sns\r\n",
        "\r\n",
        "sns.set()"
      ],
      "execution_count": 40,
      "outputs": []
    },
    {
      "cell_type": "code",
      "metadata": {
        "id": "g6rQF5LEbovD"
      },
      "source": [
        ""
      ],
      "execution_count": 9,
      "outputs": []
    },
    {
      "cell_type": "markdown",
      "metadata": {
        "id": "mvDjN2UscNaG"
      },
      "source": [
        "**IMPORT TRAIN BRI.CSV**"
      ]
    },
    {
      "cell_type": "code",
      "metadata": {
        "colab": {
          "base_uri": "https://localhost:8080/",
          "height": 227
        },
        "id": "sE-ZrWlDlula",
        "outputId": "f6bc8754-43a2-4e65-ac39-79b303f7e44b"
      },
      "source": [
        "df = pd.read_csv(\"train bri.csv\")\r\n",
        "df.head()"
      ],
      "execution_count": 15,
      "outputs": [
        {
          "output_type": "execute_result",
          "data": {
            "text/html": [
              "<div>\n",
              "<style scoped>\n",
              "    .dataframe tbody tr th:only-of-type {\n",
              "        vertical-align: middle;\n",
              "    }\n",
              "\n",
              "    .dataframe tbody tr th {\n",
              "        vertical-align: top;\n",
              "    }\n",
              "\n",
              "    .dataframe thead th {\n",
              "        text-align: right;\n",
              "    }\n",
              "</style>\n",
              "<table border=\"1\" class=\"dataframe\">\n",
              "  <thead>\n",
              "    <tr style=\"text-align: right;\">\n",
              "      <th></th>\n",
              "      <th>job_level</th>\n",
              "      <th>job_duration_in_current_job_level</th>\n",
              "      <th>person_level</th>\n",
              "      <th>job_duration_in_current_person_level</th>\n",
              "      <th>job_duration_in_current_branch</th>\n",
              "      <th>Employee_type</th>\n",
              "      <th>Employee_status</th>\n",
              "      <th>gender</th>\n",
              "      <th>age</th>\n",
              "      <th>marital_status_maried(Y/N)</th>\n",
              "      <th>number_of_dependences</th>\n",
              "      <th>number_of_dependences (male)</th>\n",
              "      <th>number_of_dependences (female)</th>\n",
              "      <th>Education_level</th>\n",
              "      <th>GPA</th>\n",
              "      <th>year_graduated</th>\n",
              "      <th>job_duration_as_permanent_worker</th>\n",
              "      <th>job_duration_from_training</th>\n",
              "      <th>branch_rotation</th>\n",
              "      <th>job_rotation</th>\n",
              "      <th>assign_of_otherposition</th>\n",
              "      <th>annual leave</th>\n",
              "      <th>sick_leaves</th>\n",
              "      <th>Best Performance</th>\n",
              "      <th>Avg_achievement_%</th>\n",
              "      <th>Last_achievement_%</th>\n",
              "      <th>Achievement_above_100%_during3quartal</th>\n",
              "      <th>achievement_target_1</th>\n",
              "      <th>achievement_target_2</th>\n",
              "      <th>achievement_target_3</th>\n",
              "    </tr>\n",
              "  </thead>\n",
              "  <tbody>\n",
              "    <tr>\n",
              "      <th>0</th>\n",
              "      <td>JG05</td>\n",
              "      <td>8.00</td>\n",
              "      <td>PG06</td>\n",
              "      <td>8.00</td>\n",
              "      <td>0.50</td>\n",
              "      <td>RM_type_A</td>\n",
              "      <td>Permanent</td>\n",
              "      <td>Female</td>\n",
              "      <td>1964</td>\n",
              "      <td>Y</td>\n",
              "      <td>3</td>\n",
              "      <td>1</td>\n",
              "      <td>2</td>\n",
              "      <td>level_4</td>\n",
              "      <td>2.32</td>\n",
              "      <td>1987</td>\n",
              "      <td>30.0</td>\n",
              "      <td>30</td>\n",
              "      <td>9</td>\n",
              "      <td>7</td>\n",
              "      <td>0</td>\n",
              "      <td>8</td>\n",
              "      <td>0</td>\n",
              "      <td>0</td>\n",
              "      <td>68.85</td>\n",
              "      <td>72.53</td>\n",
              "      <td>0.0</td>\n",
              "      <td>achiev_50%-100%</td>\n",
              "      <td>achiev_&lt; 50%</td>\n",
              "      <td>reached</td>\n",
              "    </tr>\n",
              "    <tr>\n",
              "      <th>1</th>\n",
              "      <td>JG04</td>\n",
              "      <td>5.17</td>\n",
              "      <td>PG04</td>\n",
              "      <td>2.00</td>\n",
              "      <td>1.25</td>\n",
              "      <td>RM_type_A</td>\n",
              "      <td>Permanent</td>\n",
              "      <td>Male</td>\n",
              "      <td>1979</td>\n",
              "      <td>Y</td>\n",
              "      <td>3</td>\n",
              "      <td>2</td>\n",
              "      <td>1</td>\n",
              "      <td>level_4</td>\n",
              "      <td>3.25</td>\n",
              "      <td>2001</td>\n",
              "      <td>15.0</td>\n",
              "      <td>16</td>\n",
              "      <td>7</td>\n",
              "      <td>7</td>\n",
              "      <td>9</td>\n",
              "      <td>3</td>\n",
              "      <td>0</td>\n",
              "      <td>0</td>\n",
              "      <td>94.81</td>\n",
              "      <td>101.13</td>\n",
              "      <td>3.0</td>\n",
              "      <td>achiev_50%-100%</td>\n",
              "      <td>achiev_50%-100%</td>\n",
              "      <td>reached</td>\n",
              "    </tr>\n",
              "    <tr>\n",
              "      <th>2</th>\n",
              "      <td>JG04</td>\n",
              "      <td>1.83</td>\n",
              "      <td>PG03</td>\n",
              "      <td>1.83</td>\n",
              "      <td>1.50</td>\n",
              "      <td>RM_type_A</td>\n",
              "      <td>Permanent</td>\n",
              "      <td>Male</td>\n",
              "      <td>1980</td>\n",
              "      <td>Y</td>\n",
              "      <td>1</td>\n",
              "      <td>0</td>\n",
              "      <td>1</td>\n",
              "      <td>level_5</td>\n",
              "      <td>3.23</td>\n",
              "      <td>2007</td>\n",
              "      <td>15.0</td>\n",
              "      <td>15</td>\n",
              "      <td>9</td>\n",
              "      <td>9</td>\n",
              "      <td>0</td>\n",
              "      <td>6</td>\n",
              "      <td>0</td>\n",
              "      <td>0</td>\n",
              "      <td>72.82</td>\n",
              "      <td>71.30</td>\n",
              "      <td>0.0</td>\n",
              "      <td>achiev_100%-150%</td>\n",
              "      <td>achiev_&lt; 50%</td>\n",
              "      <td>not_reached</td>\n",
              "    </tr>\n",
              "    <tr>\n",
              "      <th>3</th>\n",
              "      <td>JG04</td>\n",
              "      <td>7.92</td>\n",
              "      <td>PG04</td>\n",
              "      <td>4.00</td>\n",
              "      <td>0.17</td>\n",
              "      <td>RM_type_A</td>\n",
              "      <td>Permanent</td>\n",
              "      <td>Male</td>\n",
              "      <td>1984</td>\n",
              "      <td>Y</td>\n",
              "      <td>0</td>\n",
              "      <td>0</td>\n",
              "      <td>0</td>\n",
              "      <td>level_3</td>\n",
              "      <td>0.00</td>\n",
              "      <td>2006</td>\n",
              "      <td>8.0</td>\n",
              "      <td>8</td>\n",
              "      <td>5</td>\n",
              "      <td>5</td>\n",
              "      <td>0</td>\n",
              "      <td>3</td>\n",
              "      <td>0</td>\n",
              "      <td>0</td>\n",
              "      <td>86.89</td>\n",
              "      <td>90.09</td>\n",
              "      <td>2.0</td>\n",
              "      <td>achiev_50%-100%</td>\n",
              "      <td>achiev_50%-100%</td>\n",
              "      <td>not_reached</td>\n",
              "    </tr>\n",
              "    <tr>\n",
              "      <th>4</th>\n",
              "      <td>JG04</td>\n",
              "      <td>1.75</td>\n",
              "      <td>PG03</td>\n",
              "      <td>1.75</td>\n",
              "      <td>5.92</td>\n",
              "      <td>RM_type_A</td>\n",
              "      <td>Permanent</td>\n",
              "      <td>Male</td>\n",
              "      <td>1984</td>\n",
              "      <td>Y</td>\n",
              "      <td>0</td>\n",
              "      <td>0</td>\n",
              "      <td>0</td>\n",
              "      <td>NaN</td>\n",
              "      <td>NaN</td>\n",
              "      <td>NaN</td>\n",
              "      <td>6.0</td>\n",
              "      <td>6</td>\n",
              "      <td>1</td>\n",
              "      <td>4</td>\n",
              "      <td>4</td>\n",
              "      <td>10</td>\n",
              "      <td>0</td>\n",
              "      <td>0</td>\n",
              "      <td>86.00</td>\n",
              "      <td>81.32</td>\n",
              "      <td>2.0</td>\n",
              "      <td>achiev_50%-100%</td>\n",
              "      <td>achiev_&lt; 50%</td>\n",
              "      <td>reached</td>\n",
              "    </tr>\n",
              "  </tbody>\n",
              "</table>\n",
              "</div>"
            ],
            "text/plain": [
              "  job_level  job_duration_in_current_job_level person_level  \\\n",
              "0      JG05                               8.00         PG06   \n",
              "1      JG04                               5.17         PG04   \n",
              "2      JG04                               1.83         PG03   \n",
              "3      JG04                               7.92         PG04   \n",
              "4      JG04                               1.75         PG03   \n",
              "\n",
              "   job_duration_in_current_person_level  job_duration_in_current_branch  \\\n",
              "0                                  8.00                            0.50   \n",
              "1                                  2.00                            1.25   \n",
              "2                                  1.83                            1.50   \n",
              "3                                  4.00                            0.17   \n",
              "4                                  1.75                            5.92   \n",
              "\n",
              "  Employee_type Employee_status  gender   age marital_status_maried(Y/N)  \\\n",
              "0     RM_type_A       Permanent  Female  1964                          Y   \n",
              "1     RM_type_A       Permanent    Male  1979                          Y   \n",
              "2     RM_type_A       Permanent    Male  1980                          Y   \n",
              "3     RM_type_A       Permanent    Male  1984                          Y   \n",
              "4     RM_type_A       Permanent    Male  1984                          Y   \n",
              "\n",
              "   number_of_dependences  number_of_dependences (male)  \\\n",
              "0                      3                             1   \n",
              "1                      3                             2   \n",
              "2                      1                             0   \n",
              "3                      0                             0   \n",
              "4                      0                             0   \n",
              "\n",
              "   number_of_dependences (female) Education_level   GPA year_graduated  \\\n",
              "0                               2         level_4  2.32           1987   \n",
              "1                               1         level_4  3.25           2001   \n",
              "2                               1         level_5  3.23           2007   \n",
              "3                               0         level_3  0.00           2006   \n",
              "4                               0             NaN   NaN            NaN   \n",
              "\n",
              "   job_duration_as_permanent_worker  job_duration_from_training  \\\n",
              "0                              30.0                          30   \n",
              "1                              15.0                          16   \n",
              "2                              15.0                          15   \n",
              "3                               8.0                           8   \n",
              "4                               6.0                           6   \n",
              "\n",
              "   branch_rotation  job_rotation  assign_of_otherposition  annual leave  \\\n",
              "0                9             7                        0             8   \n",
              "1                7             7                        9             3   \n",
              "2                9             9                        0             6   \n",
              "3                5             5                        0             3   \n",
              "4                1             4                        4            10   \n",
              "\n",
              "   sick_leaves  Best Performance  Avg_achievement_%  Last_achievement_%  \\\n",
              "0            0                 0              68.85               72.53   \n",
              "1            0                 0              94.81              101.13   \n",
              "2            0                 0              72.82               71.30   \n",
              "3            0                 0              86.89               90.09   \n",
              "4            0                 0              86.00               81.32   \n",
              "\n",
              "   Achievement_above_100%_during3quartal achievement_target_1  \\\n",
              "0                                    0.0      achiev_50%-100%   \n",
              "1                                    3.0      achiev_50%-100%   \n",
              "2                                    0.0     achiev_100%-150%   \n",
              "3                                    2.0      achiev_50%-100%   \n",
              "4                                    2.0      achiev_50%-100%   \n",
              "\n",
              "  achievement_target_2 achievement_target_3  \n",
              "0         achiev_< 50%              reached  \n",
              "1      achiev_50%-100%              reached  \n",
              "2         achiev_< 50%          not_reached  \n",
              "3      achiev_50%-100%          not_reached  \n",
              "4         achiev_< 50%              reached  "
            ]
          },
          "metadata": {
            "tags": []
          },
          "execution_count": 15
        }
      ]
    },
    {
      "cell_type": "code",
      "metadata": {
        "id": "43Jftb3Xbpxs"
      },
      "source": [
        ""
      ],
      "execution_count": 11,
      "outputs": []
    },
    {
      "cell_type": "markdown",
      "metadata": {
        "id": "hvefzgiKck_z"
      },
      "source": [
        "**SHAPE DATASET**"
      ]
    },
    {
      "cell_type": "code",
      "metadata": {
        "colab": {
          "base_uri": "https://localhost:8080/"
        },
        "id": "mjdFoY9OmqZE",
        "outputId": "5a98c550-6866-416d-f1db-1f6240738d30"
      },
      "source": [
        "df.shape"
      ],
      "execution_count": 4,
      "outputs": [
        {
          "output_type": "execute_result",
          "data": {
            "text/plain": [
              "(6162, 30)"
            ]
          },
          "metadata": {
            "tags": []
          },
          "execution_count": 4
        }
      ]
    },
    {
      "cell_type": "code",
      "metadata": {
        "id": "Py3-ZRpbbXqf"
      },
      "source": [
        ""
      ],
      "execution_count": null,
      "outputs": []
    },
    {
      "cell_type": "markdown",
      "metadata": {
        "id": "unpQD94ncp0I"
      },
      "source": [
        "**VALUE COUNTS achievement_target_1 FEATURE**"
      ]
    },
    {
      "cell_type": "code",
      "metadata": {
        "colab": {
          "base_uri": "https://localhost:8080/"
        },
        "id": "6BfCB3UTbA5b",
        "outputId": "688a5f18-6979-4536-e304-9c6bc1507fa4"
      },
      "source": [
        "df.achievement_target_1.value_counts()"
      ],
      "execution_count": 17,
      "outputs": [
        {
          "output_type": "execute_result",
          "data": {
            "text/plain": [
              "achiev_50%-100%           2483\n",
              "achiev_100%-150%           812\n",
              "achiev_< 50%               707\n",
              "Pencapaian 50%-100%        205\n",
              "achiev_> 1.5               177\n",
              "Pencapaian 100%-150%        64\n",
              "Tidak diberikan target      57\n",
              "Pencapaian < 50%            25\n",
              "Pencapaian > 1.5             3\n",
              "Name: achievement_target_1, dtype: int64"
            ]
          },
          "metadata": {
            "tags": []
          },
          "execution_count": 17
        }
      ]
    },
    {
      "cell_type": "markdown",
      "metadata": {
        "id": "qA2Sh46mc0ZH"
      },
      "source": [
        "**VALUE COUNTS achievement_target_2 FEATURE**"
      ]
    },
    {
      "cell_type": "code",
      "metadata": {
        "colab": {
          "base_uri": "https://localhost:8080/"
        },
        "id": "k0Wlb4pkmqVm",
        "outputId": "96a1c067-4bb0-49af-db55-db86a3b7f6ab"
      },
      "source": [
        "df.achievement_target_2.value_counts()"
      ],
      "execution_count": 18,
      "outputs": [
        {
          "output_type": "execute_result",
          "data": {
            "text/plain": [
              "achiev_< 50%              2878\n",
              "achiev_50%-100%            725\n",
              "achiev_> 1.5               316\n",
              "achiev_100%-150%           270\n",
              "Pencapaian < 50%           215\n",
              "Pencapaian 50%-100%         55\n",
              "Tidak diberikan target      45\n",
              "Pencapaian 100%-150%        19\n",
              "Pencapaian > 1.5            10\n",
              "Name: achievement_target_2, dtype: int64"
            ]
          },
          "metadata": {
            "tags": []
          },
          "execution_count": 18
        }
      ]
    },
    {
      "cell_type": "code",
      "metadata": {
        "id": "_0K5-k82bygW"
      },
      "source": [
        ""
      ],
      "execution_count": null,
      "outputs": []
    },
    {
      "cell_type": "markdown",
      "metadata": {
        "id": "wkyalgBxc_qn"
      },
      "source": [
        "**PLOT MISSING VALUE DATA**"
      ]
    },
    {
      "cell_type": "code",
      "metadata": {
        "colab": {
          "base_uri": "https://localhost:8080/",
          "height": 497
        },
        "id": "m1EhmQn2mqOE",
        "outputId": "17e5f94b-8e27-46ba-ff08-7df5c9679a4e"
      },
      "source": [
        "plot_missing_value(df)"
      ],
      "execution_count": 14,
      "outputs": [
        {
          "output_type": "display_data",
          "data": {
            "image/png": "[encoded data removed]",
            "text/plain": [
              "<Figure size 1080x576 with 1 Axes>"
            ]
          },
          "metadata": {
            "tags": [],
            "needs_background": "light"
          }
        }
      ]
    },
    {
      "cell_type": "markdown",
      "metadata": {
        "id": "gpC5VxaAddWM"
      },
      "source": [
        "**DROPNA MISSING VALUE**"
      ]
    },
    {
      "cell_type": "code",
      "metadata": {
        "id": "pirfACsAgUzB"
      },
      "source": [
        "df.dropna(inplace =True)"
      ],
      "execution_count": 22,
      "outputs": []
    },
    {
      "cell_type": "code",
      "metadata": {
        "id": "rbC4QjLudrtS"
      },
      "source": [
        ""
      ],
      "execution_count": null,
      "outputs": []
    },
    {
      "cell_type": "markdown",
      "metadata": {
        "id": "Mqq1or2ldsvY"
      },
      "source": [
        "**PLOT MISSING VALUE AGAIN**"
      ]
    },
    {
      "cell_type": "code",
      "metadata": {
        "colab": {
          "base_uri": "https://localhost:8080/",
          "height": 497
        },
        "id": "sipaQBbedxmj",
        "outputId": "636c2be9-79bf-4be2-8c88-4587776621ee"
      },
      "source": [
        "plot_missing_value(df)"
      ],
      "execution_count": 23,
      "outputs": [
        {
          "output_type": "display_data",
          "data": {
            "image/png": "[encoded data removed]",
            "text/plain": [
              "<Figure size 1080x576 with 1 Axes>"
            ]
          },
          "metadata": {
            "tags": [],
            "needs_background": "light"
          }
        }
      ]
    },
    {
      "cell_type": "code",
      "metadata": {
        "id": "BECwf2Mydx8J"
      },
      "source": [
        ""
      ],
      "execution_count": null,
      "outputs": []
    },
    {
      "cell_type": "markdown",
      "metadata": {
        "id": "WR27n8UnePsr"
      },
      "source": [
        "**VALUE COUNTS FEATURE TARGET(BEST PERFORMANCE)**"
      ]
    },
    {
      "cell_type": "code",
      "metadata": {
        "colab": {
          "base_uri": "https://localhost:8080/"
        },
        "id": "M1RRzOtMeNzv",
        "outputId": "cc1afd57-d9b0-400b-a881-39822ca46339"
      },
      "source": [
        "df['Best Performance'].value_counts()"
      ],
      "execution_count": 24,
      "outputs": [
        {
          "output_type": "execute_result",
          "data": {
            "text/plain": [
              "0    1850\n",
              "1    1728\n",
              "Name: Best Performance, dtype: int64"
            ]
          },
          "metadata": {
            "tags": []
          },
          "execution_count": 24
        }
      ]
    },
    {
      "cell_type": "code",
      "metadata": {
        "id": "EEtPll2CeCud"
      },
      "source": [
        ""
      ],
      "execution_count": null,
      "outputs": []
    },
    {
      "cell_type": "code",
      "metadata": {
        "id": "_7mqOWmEnKSI"
      },
      "source": [
        "df['Employee_status'].dropna(inplace=True)"
      ],
      "execution_count": 25,
      "outputs": []
    },
    {
      "cell_type": "code",
      "metadata": {
        "colab": {
          "base_uri": "https://localhost:8080/"
        },
        "id": "-rZOf1cxF-Fg",
        "outputId": "37f61eb7-bea3-483c-b953-71ef093e3d50"
      },
      "source": [
        "df['Employee_status'].value_counts()"
      ],
      "execution_count": 26,
      "outputs": [
        {
          "output_type": "execute_result",
          "data": {
            "text/plain": [
              "Permanent    3578\n",
              "Name: Employee_status, dtype: int64"
            ]
          },
          "metadata": {
            "tags": []
          },
          "execution_count": 26
        }
      ]
    },
    {
      "cell_type": "code",
      "metadata": {
        "id": "cSbb76oNkvyr"
      },
      "source": [
        ""
      ],
      "execution_count": null,
      "outputs": []
    },
    {
      "cell_type": "markdown",
      "metadata": {
        "id": "SiM5y3G6kwdJ"
      },
      "source": [
        "**EXPLORATORY DATA ANALYSIST**"
      ]
    },
    {
      "cell_type": "code",
      "metadata": {
        "colab": {
          "base_uri": "https://localhost:8080/"
        },
        "id": "6NTFqr5h_OAk",
        "outputId": "322c5e43-44cd-4965-ae85-b4deb17aabf6"
      },
      "source": [
        "df[['achievement_target_1','job_duration_from_training']].value_counts()"
      ],
      "execution_count": 27,
      "outputs": [
        {
          "output_type": "execute_result",
          "data": {
            "text/plain": [
              "achievement_target_1  job_duration_from_training\n",
              "achiev_50%-100%       6                             451\n",
              "                      3                             370\n",
              "                      4                             364\n",
              "                      5                             348\n",
              "achiev_< 50%          3                             241\n",
              "                                                   ... \n",
              "Pencapaian < 50%      22                              1\n",
              "                      19                              1\n",
              "                      15                              1\n",
              "Pencapaian 50%-100%   25                              1\n",
              "Pencapaian 100%-150%  2                               1\n",
              "Length: 139, dtype: int64"
            ]
          },
          "metadata": {
            "tags": []
          },
          "execution_count": 27
        }
      ]
    },
    {
      "cell_type": "code",
      "metadata": {
        "colab": {
          "base_uri": "https://localhost:8080/",
          "height": 353
        },
        "id": "GDFewnahjqoC",
        "outputId": "21e5dcc9-4166-4131-87b2-498518eb15b7"
      },
      "source": [
        "best_performance_df = df['Best Performance'].value_counts()\r\n",
        "best_performance_df.index = ['Not Best', 'Best']\r\n",
        "\r\n",
        "plt.axis(\"equal\")\r\n",
        "plt.pie(\r\n",
        "    best_performance_df.values,\r\n",
        "    labels=best_performance_df.index,\r\n",
        "    autopct='%.2f%%',\r\n",
        "    explode=[0, 0.3],\r\n",
        "    radius=1.5,\r\n",
        ")\r\n",
        "\r\n",
        "plt.legend()\r\n",
        "plt.show()"
      ],
      "execution_count": 41,
      "outputs": [
        {
          "output_type": "display_data",
          "data": {
            "image/png": "[encoded data removed]",
            "text/plain": [
              "<Figure size 432x288 with 1 Axes>"
            ]
          },
          "metadata": {
            "tags": []
          }
        }
      ]
    },
    {
      "cell_type": "code",
      "metadata": {
        "id": "iTl6EEYrlqrq"
      },
      "source": [
        "def analyze_wrt_bestperformance(column_name):\r\n",
        "    performance_df = df.groupby(column_name)['Best Performance'].mean().multiply(100).sort_values(ascending=False)\r\n",
        "\r\n",
        "    for index in performance_df.index:\r\n",
        "        print(f\"{column_name} {index} best performance percentage is {round(performance_df[index], 2)}%\")\r\n",
        "\r\n",
        "def visualize_wrt_bestperformance(column_name, width=12):\r\n",
        "    plt.figure(figsize=(width, 8))\r\n",
        "    joblevel_viz = sns.countplot(df[column_name], hue=df['Best Performance'])\r\n",
        "    joblevel_viz.set_title(f\"{column_name} Best Performance Count\")\r\n",
        "\r\n",
        "    for axes in joblevel_viz.patches:\r\n",
        "        value = axes.get_height()\r\n",
        "        text = f\"{value} ({round(value / df.job_level.shape[0] * 100, 2)}%)\"\r\n",
        "        x = axes.get_x() + axes.get_width() / 2\r\n",
        "        joblevel_viz.annotate(text, (x, value), ha='center', va='center', fontsize=8, xytext=(0, 5), textcoords='offset points')\r\n",
        "\r\n",
        "    plt.legend([\"Not Best\", \"Best\"])\r\n",
        "    return plt.show()"
      ],
      "execution_count": 43,
      "outputs": []
    },
    {
      "cell_type": "code",
      "metadata": {
        "colab": {
          "base_uri": "https://localhost:8080/",
          "height": 618
        },
        "id": "5uVTXDlxjqkB",
        "outputId": "f08a2f65-0650-4756-82ee-338f208a13e4"
      },
      "source": [
        "analyze_wrt_bestperformance('job_level')\r\n",
        "visualize_wrt_bestperformance('job_level')"
      ],
      "execution_count": 44,
      "outputs": [
        {
          "output_type": "stream",
          "text": [
            "job_level JG03 best performance percentage is 54.55%\n",
            "job_level JG05 best performance percentage is 51.93%\n",
            "job_level JG04 best performance percentage is 48.02%\n"
          ],
          "name": "stdout"
        },
        {
          "output_type": "stream",
          "text": [
            "/usr/local/lib/python3.7/dist-packages/seaborn/_decorators.py:43: FutureWarning: Pass the following variable as a keyword arg: x. From version 0.12, the only valid positional argument will be `data`, and passing other arguments without an explicit keyword will result in an error or misinterpretation.\n",
            "  FutureWarning\n"
          ],
          "name": "stderr"
        },
        {
          "output_type": "display_data",
          "data": {
            "image/png": "[encoded data removed]",
            "text/plain": [
              "<Figure size 864x576 with 1 Axes>"
            ]
          },
          "metadata": {
            "tags": []
          }
        }
      ]
    },
    {
      "cell_type": "code",
      "metadata": {
        "colab": {
          "base_uri": "https://localhost:8080/",
          "height": 570
        },
        "id": "bezC4RAvjqf5",
        "outputId": "0e475e99-71f5-488f-8a89-a5d3fc2efa48"
      },
      "source": [
        "visualize_wrt_bestperformance('gender')"
      ],
      "execution_count": 45,
      "outputs": [
        {
          "output_type": "stream",
          "text": [
            "/usr/local/lib/python3.7/dist-packages/seaborn/_decorators.py:43: FutureWarning: Pass the following variable as a keyword arg: x. From version 0.12, the only valid positional argument will be `data`, and passing other arguments without an explicit keyword will result in an error or misinterpretation.\n",
            "  FutureWarning\n"
          ],
          "name": "stderr"
        },
        {
          "output_type": "display_data",
          "data": {
            "image/png": "[encoded data removed]",
            "text/plain": [
              "<Figure size 864x576 with 1 Axes>"
            ]
          },
          "metadata": {
            "tags": []
          }
        }
      ]
    },
    {
      "cell_type": "code",
      "metadata": {
        "colab": {
          "base_uri": "https://localhost:8080/",
          "height": 570
        },
        "id": "rfNZy8wxjqau",
        "outputId": "91a2d4db-fd02-4ce2-cfcd-ceb9dd30ee14"
      },
      "source": [
        "visualize_wrt_bestperformance('marital_status_maried(Y/N)')"
      ],
      "execution_count": 46,
      "outputs": [
        {
          "output_type": "stream",
          "text": [
            "/usr/local/lib/python3.7/dist-packages/seaborn/_decorators.py:43: FutureWarning: Pass the following variable as a keyword arg: x. From version 0.12, the only valid positional argument will be `data`, and passing other arguments without an explicit keyword will result in an error or misinterpretation.\n",
            "  FutureWarning\n"
          ],
          "name": "stderr"
        },
        {
          "output_type": "display_data",
          "data": {
            "image/png": "[encoded data removed]",
            "text/plain": [
              "<Figure size 864x576 with 1 Axes>"
            ]
          },
          "metadata": {
            "tags": []
          }
        }
      ]
    },
    {
      "cell_type": "code",
      "metadata": {
        "id": "SOK2SiZhhhVh"
      },
      "source": [
        ""
      ],
      "execution_count": 27,
      "outputs": []
    },
    {
      "cell_type": "markdown",
      "metadata": {
        "id": "xJDJvLobhhwx"
      },
      "source": [
        "**SPLIT TRAIN AND TEST SPLIT**"
      ]
    },
    {
      "cell_type": "code",
      "metadata": {
        "colab": {
          "base_uri": "https://localhost:8080/"
        },
        "id": "RKjEDDKWluog",
        "outputId": "f672e66b-130d-460c-a028-ed559d94146e"
      },
      "source": [
        "X = df.drop(columns=\"Best Performance\")\r\n",
        "y = df['Best Performance']\r\n",
        "\r\n",
        "X_train, X_test, y_train, y_test = train_test_split(X, y, test_size=0.2, stratify=y, random_state=42)\r\n",
        "X_train.shape, X_test.shape, y_train.shape, y_test.shape"
      ],
      "execution_count": 29,
      "outputs": [
        {
          "output_type": "execute_result",
          "data": {
            "text/plain": [
              "((2862, 29), (716, 29), (2862,), (716,))"
            ]
          },
          "metadata": {
            "tags": []
          },
          "execution_count": 29
        }
      ]
    },
    {
      "cell_type": "code",
      "metadata": {
        "colab": {
          "base_uri": "https://localhost:8080/",
          "height": 227
        },
        "id": "oRDYX5v_ohpN",
        "outputId": "562afd9f-71a6-49f0-a830-38164ac3664b"
      },
      "source": [
        "df.head()"
      ],
      "execution_count": 30,
      "outputs": [
        {
          "output_type": "execute_result",
          "data": {
            "text/html": [
              "<div>\n",
              "<style scoped>\n",
              "    .dataframe tbody tr th:only-of-type {\n",
              "        vertical-align: middle;\n",
              "    }\n",
              "\n",
              "    .dataframe tbody tr th {\n",
              "        vertical-align: top;\n",
              "    }\n",
              "\n",
              "    .dataframe thead th {\n",
              "        text-align: right;\n",
              "    }\n",
              "</style>\n",
              "<table border=\"1\" class=\"dataframe\">\n",
              "  <thead>\n",
              "    <tr style=\"text-align: right;\">\n",
              "      <th></th>\n",
              "      <th>job_level</th>\n",
              "      <th>job_duration_in_current_job_level</th>\n",
              "      <th>person_level</th>\n",
              "      <th>job_duration_in_current_person_level</th>\n",
              "      <th>job_duration_in_current_branch</th>\n",
              "      <th>Employee_type</th>\n",
              "      <th>Employee_status</th>\n",
              "      <th>gender</th>\n",
              "      <th>age</th>\n",
              "      <th>marital_status_maried(Y/N)</th>\n",
              "      <th>number_of_dependences</th>\n",
              "      <th>number_of_dependences (male)</th>\n",
              "      <th>number_of_dependences (female)</th>\n",
              "      <th>Education_level</th>\n",
              "      <th>GPA</th>\n",
              "      <th>year_graduated</th>\n",
              "      <th>job_duration_as_permanent_worker</th>\n",
              "      <th>job_duration_from_training</th>\n",
              "      <th>branch_rotation</th>\n",
              "      <th>job_rotation</th>\n",
              "      <th>assign_of_otherposition</th>\n",
              "      <th>annual leave</th>\n",
              "      <th>sick_leaves</th>\n",
              "      <th>Best Performance</th>\n",
              "      <th>Avg_achievement_%</th>\n",
              "      <th>Last_achievement_%</th>\n",
              "      <th>Achievement_above_100%_during3quartal</th>\n",
              "      <th>achievement_target_1</th>\n",
              "      <th>achievement_target_2</th>\n",
              "      <th>achievement_target_3</th>\n",
              "    </tr>\n",
              "  </thead>\n",
              "  <tbody>\n",
              "    <tr>\n",
              "      <th>0</th>\n",
              "      <td>JG05</td>\n",
              "      <td>8.00</td>\n",
              "      <td>PG06</td>\n",
              "      <td>8.00</td>\n",
              "      <td>0.50</td>\n",
              "      <td>RM_type_A</td>\n",
              "      <td>Permanent</td>\n",
              "      <td>Female</td>\n",
              "      <td>1964</td>\n",
              "      <td>Y</td>\n",
              "      <td>3</td>\n",
              "      <td>1</td>\n",
              "      <td>2</td>\n",
              "      <td>level_4</td>\n",
              "      <td>2.32</td>\n",
              "      <td>1987</td>\n",
              "      <td>30.0</td>\n",
              "      <td>30</td>\n",
              "      <td>9</td>\n",
              "      <td>7</td>\n",
              "      <td>0</td>\n",
              "      <td>8</td>\n",
              "      <td>0</td>\n",
              "      <td>0</td>\n",
              "      <td>68.85</td>\n",
              "      <td>72.53</td>\n",
              "      <td>0.0</td>\n",
              "      <td>achiev_50%-100%</td>\n",
              "      <td>achiev_&lt; 50%</td>\n",
              "      <td>reached</td>\n",
              "    </tr>\n",
              "    <tr>\n",
              "      <th>1</th>\n",
              "      <td>JG04</td>\n",
              "      <td>5.17</td>\n",
              "      <td>PG04</td>\n",
              "      <td>2.00</td>\n",
              "      <td>1.25</td>\n",
              "      <td>RM_type_A</td>\n",
              "      <td>Permanent</td>\n",
              "      <td>Male</td>\n",
              "      <td>1979</td>\n",
              "      <td>Y</td>\n",
              "      <td>3</td>\n",
              "      <td>2</td>\n",
              "      <td>1</td>\n",
              "      <td>level_4</td>\n",
              "      <td>3.25</td>\n",
              "      <td>2001</td>\n",
              "      <td>15.0</td>\n",
              "      <td>16</td>\n",
              "      <td>7</td>\n",
              "      <td>7</td>\n",
              "      <td>9</td>\n",
              "      <td>3</td>\n",
              "      <td>0</td>\n",
              "      <td>0</td>\n",
              "      <td>94.81</td>\n",
              "      <td>101.13</td>\n",
              "      <td>3.0</td>\n",
              "      <td>achiev_50%-100%</td>\n",
              "      <td>achiev_50%-100%</td>\n",
              "      <td>reached</td>\n",
              "    </tr>\n",
              "    <tr>\n",
              "      <th>2</th>\n",
              "      <td>JG04</td>\n",
              "      <td>1.83</td>\n",
              "      <td>PG03</td>\n",
              "      <td>1.83</td>\n",
              "      <td>1.50</td>\n",
              "      <td>RM_type_A</td>\n",
              "      <td>Permanent</td>\n",
              "      <td>Male</td>\n",
              "      <td>1980</td>\n",
              "      <td>Y</td>\n",
              "      <td>1</td>\n",
              "      <td>0</td>\n",
              "      <td>1</td>\n",
              "      <td>level_5</td>\n",
              "      <td>3.23</td>\n",
              "      <td>2007</td>\n",
              "      <td>15.0</td>\n",
              "      <td>15</td>\n",
              "      <td>9</td>\n",
              "      <td>9</td>\n",
              "      <td>0</td>\n",
              "      <td>6</td>\n",
              "      <td>0</td>\n",
              "      <td>0</td>\n",
              "      <td>72.82</td>\n",
              "      <td>71.30</td>\n",
              "      <td>0.0</td>\n",
              "      <td>achiev_100%-150%</td>\n",
              "      <td>achiev_&lt; 50%</td>\n",
              "      <td>not_reached</td>\n",
              "    </tr>\n",
              "    <tr>\n",
              "      <th>3</th>\n",
              "      <td>JG04</td>\n",
              "      <td>7.92</td>\n",
              "      <td>PG04</td>\n",
              "      <td>4.00</td>\n",
              "      <td>0.17</td>\n",
              "      <td>RM_type_A</td>\n",
              "      <td>Permanent</td>\n",
              "      <td>Male</td>\n",
              "      <td>1984</td>\n",
              "      <td>Y</td>\n",
              "      <td>0</td>\n",
              "      <td>0</td>\n",
              "      <td>0</td>\n",
              "      <td>level_3</td>\n",
              "      <td>0.00</td>\n",
              "      <td>2006</td>\n",
              "      <td>8.0</td>\n",
              "      <td>8</td>\n",
              "      <td>5</td>\n",
              "      <td>5</td>\n",
              "      <td>0</td>\n",
              "      <td>3</td>\n",
              "      <td>0</td>\n",
              "      <td>0</td>\n",
              "      <td>86.89</td>\n",
              "      <td>90.09</td>\n",
              "      <td>2.0</td>\n",
              "      <td>achiev_50%-100%</td>\n",
              "      <td>achiev_50%-100%</td>\n",
              "      <td>not_reached</td>\n",
              "    </tr>\n",
              "    <tr>\n",
              "      <th>5</th>\n",
              "      <td>JG04</td>\n",
              "      <td>2.42</td>\n",
              "      <td>PG03</td>\n",
              "      <td>2.42</td>\n",
              "      <td>1.50</td>\n",
              "      <td>RM_type_A</td>\n",
              "      <td>Permanent</td>\n",
              "      <td>Male</td>\n",
              "      <td>1987</td>\n",
              "      <td>Y</td>\n",
              "      <td>1</td>\n",
              "      <td>1</td>\n",
              "      <td>0</td>\n",
              "      <td>level_3</td>\n",
              "      <td>2.84</td>\n",
              "      <td>2008</td>\n",
              "      <td>6.0</td>\n",
              "      <td>6</td>\n",
              "      <td>3</td>\n",
              "      <td>2</td>\n",
              "      <td>1</td>\n",
              "      <td>8</td>\n",
              "      <td>5</td>\n",
              "      <td>0</td>\n",
              "      <td>110.43</td>\n",
              "      <td>101.79</td>\n",
              "      <td>3.0</td>\n",
              "      <td>achiev_50%-100%</td>\n",
              "      <td>achiev_100%-150%</td>\n",
              "      <td>not_reached</td>\n",
              "    </tr>\n",
              "  </tbody>\n",
              "</table>\n",
              "</div>"
            ],
            "text/plain": [
              "  job_level  job_duration_in_current_job_level person_level  \\\n",
              "0      JG05                               8.00         PG06   \n",
              "1      JG04                               5.17         PG04   \n",
              "2      JG04                               1.83         PG03   \n",
              "3      JG04                               7.92         PG04   \n",
              "5      JG04                               2.42         PG03   \n",
              "\n",
              "   job_duration_in_current_person_level  job_duration_in_current_branch  \\\n",
              "0                                  8.00                            0.50   \n",
              "1                                  2.00                            1.25   \n",
              "2                                  1.83                            1.50   \n",
              "3                                  4.00                            0.17   \n",
              "5                                  2.42                            1.50   \n",
              "\n",
              "  Employee_type Employee_status  gender   age marital_status_maried(Y/N)  \\\n",
              "0     RM_type_A       Permanent  Female  1964                          Y   \n",
              "1     RM_type_A       Permanent    Male  1979                          Y   \n",
              "2     RM_type_A       Permanent    Male  1980                          Y   \n",
              "3     RM_type_A       Permanent    Male  1984                          Y   \n",
              "5     RM_type_A       Permanent    Male  1987                          Y   \n",
              "\n",
              "   number_of_dependences  number_of_dependences (male)  \\\n",
              "0                      3                             1   \n",
              "1                      3                             2   \n",
              "2                      1                             0   \n",
              "3                      0                             0   \n",
              "5                      1                             1   \n",
              "\n",
              "   number_of_dependences (female) Education_level   GPA year_graduated  \\\n",
              "0                               2         level_4  2.32           1987   \n",
              "1                               1         level_4  3.25           2001   \n",
              "2                               1         level_5  3.23           2007   \n",
              "3                               0         level_3  0.00           2006   \n",
              "5                               0         level_3  2.84           2008   \n",
              "\n",
              "   job_duration_as_permanent_worker  job_duration_from_training  \\\n",
              "0                              30.0                          30   \n",
              "1                              15.0                          16   \n",
              "2                              15.0                          15   \n",
              "3                               8.0                           8   \n",
              "5                               6.0                           6   \n",
              "\n",
              "   branch_rotation  job_rotation  assign_of_otherposition  annual leave  \\\n",
              "0                9             7                        0             8   \n",
              "1                7             7                        9             3   \n",
              "2                9             9                        0             6   \n",
              "3                5             5                        0             3   \n",
              "5                3             2                        1             8   \n",
              "\n",
              "   sick_leaves  Best Performance  Avg_achievement_%  Last_achievement_%  \\\n",
              "0            0                 0              68.85               72.53   \n",
              "1            0                 0              94.81              101.13   \n",
              "2            0                 0              72.82               71.30   \n",
              "3            0                 0              86.89               90.09   \n",
              "5            5                 0             110.43              101.79   \n",
              "\n",
              "   Achievement_above_100%_during3quartal achievement_target_1  \\\n",
              "0                                    0.0      achiev_50%-100%   \n",
              "1                                    3.0      achiev_50%-100%   \n",
              "2                                    0.0     achiev_100%-150%   \n",
              "3                                    2.0      achiev_50%-100%   \n",
              "5                                    3.0      achiev_50%-100%   \n",
              "\n",
              "  achievement_target_2 achievement_target_3  \n",
              "0         achiev_< 50%              reached  \n",
              "1      achiev_50%-100%              reached  \n",
              "2         achiev_< 50%          not_reached  \n",
              "3      achiev_50%-100%          not_reached  \n",
              "5     achiev_100%-150%          not_reached  "
            ]
          },
          "metadata": {
            "tags": []
          },
          "execution_count": 30
        }
      ]
    },
    {
      "cell_type": "code",
      "metadata": {
        "id": "rQfddri3hod2"
      },
      "source": [
        ""
      ],
      "execution_count": 30,
      "outputs": []
    },
    {
      "cell_type": "markdown",
      "metadata": {
        "id": "YgZRWZE5ho8E"
      },
      "source": [
        "**SPLIT NUMERIC AND CATEGORIC FEATURE**"
      ]
    },
    {
      "cell_type": "code",
      "metadata": {
        "id": "GK9WuWUCluqp"
      },
      "source": [
        "preprocessor = ColumnTransformer([\r\n",
        "   ('numeric', num_pipe(poly=2, transform='yeo-johnson'), ['job_duration_in_current_job_level' , 'job_duration_in_current_person_level' ,'job_duration_in_current_branch',\r\n",
        "                            'age' , 'number_of_dependences' , 'number_of_dependences (male)' , 'number_of_dependences (female)','Avg_achievement_%' , 'Last_achievement_%', 'Achievement_above_100%_during3quartal',\r\n",
        "        'job_rotation' , 'assign_of_otherposition' , 'annual leave' , 'job_duration_from_training', \r\n",
        "                             'branch_rotation',\r\n",
        "                              'sick_leaves', 'job_duration_as_permanent_worker','GPA'\r\n",
        "                            ]),\r\n",
        "\r\n",
        "    ('categoric', cat_pipe(encoder='onehot'), ['job_level','person_level', 'Employee_type',  'Employee_status','gender','achievement_target_1', 'achievement_target_2', 'achievement_target_3',\r\n",
        "        'marital_status_maried(Y/N)','Education_level', \r\n",
        "         'year_graduated'\r\n",
        "         ]),\r\n",
        "])"
      ],
      "execution_count": 31,
      "outputs": []
    },
    {
      "cell_type": "code",
      "metadata": {
        "id": "sh4Pr0ZBhu7A"
      },
      "source": [
        ""
      ],
      "execution_count": 31,
      "outputs": []
    },
    {
      "cell_type": "markdown",
      "metadata": {
        "id": "1Tos8Dxzhv6A"
      },
      "source": [
        "**FIT MODEL USING SUPPORT VECTOR CLASSIFIER**"
      ]
    },
    {
      "cell_type": "code",
      "metadata": {
        "id": "HCJHNIR_luvF"
      },
      "source": [
        "from sklearn.svm import SVC\r\n",
        "pipeline = Pipeline([\r\n",
        "    ('prep', preprocessor),\r\n",
        "    ('algo', SVC(max_iter=600))\r\n",
        "])"
      ],
      "execution_count": 32,
      "outputs": []
    },
    {
      "cell_type": "code",
      "metadata": {
        "id": "5dvSoHJ4h5xt"
      },
      "source": [
        ""
      ],
      "execution_count": 32,
      "outputs": []
    },
    {
      "cell_type": "markdown",
      "metadata": {
        "id": "PYits0nih7MG"
      },
      "source": [
        "**HYPERPARAMTER TUNING USING RANDOMIZED SEARCH CV**"
      ]
    },
    {
      "cell_type": "code",
      "metadata": {
        "id": "3ulfDG0oluxF"
      },
      "source": [
        "from jcopml.tuning.space import Real , Integer\r\n",
        "from sklearn.model_selection import RandomizedSearchCV\r\n",
        "from jcopml.tuning import random_search_params as rsp"
      ],
      "execution_count": 33,
      "outputs": []
    },
    {
      "cell_type": "code",
      "metadata": {
        "colab": {
          "base_uri": "https://localhost:8080/"
        },
        "id": "NmeLaNtLlu1O",
        "outputId": "eef4f9df-5176-403b-db04-128253d53bd8"
      },
      "source": [
        "model = RandomizedSearchCV(pipeline, rsp.svm_poly_params, cv=3, n_iter=3, n_jobs=-1, verbose=1, random_state=42)\r\n",
        "model.fit(X_train, y_train)"
      ],
      "execution_count": 34,
      "outputs": [
        {
          "output_type": "stream",
          "text": [
            "Fitting 3 folds for each of 3 candidates, totalling 9 fits\n"
          ],
          "name": "stdout"
        },
        {
          "output_type": "stream",
          "text": [
            "[Parallel(n_jobs=-1)]: Using backend LokyBackend with 2 concurrent workers.\n",
            "[Parallel(n_jobs=-1)]: Done   9 out of   9 | elapsed:  1.6min finished\n",
            "/usr/local/lib/python3.7/dist-packages/sklearn/preprocessing/_data.py:2982: RuntimeWarning: divide by zero encountered in log\n",
            "  loglike = -n_samples / 2 * np.log(x_trans.var())\n",
            "/usr/local/lib/python3.7/dist-packages/sklearn/preprocessing/_data.py:2947: RuntimeWarning: overflow encountered in power\n",
            "  out[pos] = (np.power(x[pos] + 1, lmbda) - 1) / lmbda\n",
            "/usr/local/lib/python3.7/dist-packages/numpy/core/_methods.py:205: RuntimeWarning: overflow encountered in multiply\n",
            "  x = um.multiply(x, x, out=x)\n",
            "/usr/local/lib/python3.7/dist-packages/numpy/core/_methods.py:216: RuntimeWarning: overflow encountered in reduce\n",
            "  ret = umr_sum(x, axis, dtype, out, keepdims)\n",
            "/usr/local/lib/python3.7/dist-packages/sklearn/svm/_base.py:231: ConvergenceWarning: Solver terminated early (max_iter=600).  Consider pre-processing your data with StandardScaler or MinMaxScaler.\n",
            "  % self.max_iter, ConvergenceWarning)\n"
          ],
          "name": "stderr"
        },
        {
          "output_type": "execute_result",
          "data": {
            "text/plain": [
              "RandomizedSearchCV(cv=3, error_score=nan,\n",
              "                   estimator=Pipeline(memory=None,\n",
              "                                      steps=[('prep',\n",
              "                                              ColumnTransformer(n_jobs=None,\n",
              "                                                                remainder='drop',\n",
              "                                                                sparse_threshold=0.3,\n",
              "                                                                transformer_weights=None,\n",
              "                                                                transformers=[('numeric',\n",
              "                                                                               Pipeline(memory=None,\n",
              "                                                                                        steps=[('imputer',\n",
              "                                                                                                SimpleImputer(add_indicator=False,\n",
              "                                                                                                              copy=True,\n",
              "                                                                                                              fill_value=None,\n",
              "                                                                                                              missing_values=nan,\n",
              "                                                                                                              strategy='median',\n",
              "                                                                                                              verbose=0)...\n",
              "                   iid='deprecated', n_iter=3, n_jobs=-1,\n",
              "                   param_distributions={'algo__C': Real(low=-3, high=3, prior='log-uniform'),\n",
              "                                        'algo__gamma': Real(low=-3, high=3, prior='log-uniform'),\n",
              "                                        'prep__numeric__poly__degree': Integer(low=1, high=3),\n",
              "                                        'prep__numeric__poly__interaction_only': [True,\n",
              "                                                                                  False]},\n",
              "                   pre_dispatch='2*n_jobs', random_state=42, refit=True,\n",
              "                   return_train_score=False, scoring=None, verbose=1)"
            ]
          },
          "metadata": {
            "tags": []
          },
          "execution_count": 34
        }
      ]
    },
    {
      "cell_type": "code",
      "metadata": {
        "id": "iUtVxUF2iMhE"
      },
      "source": [
        ""
      ],
      "execution_count": null,
      "outputs": []
    },
    {
      "cell_type": "markdown",
      "metadata": {
        "id": "9zVVwuTviNHI"
      },
      "source": [
        "**PRINT BEST MODEL HYPERPARAMETER TUNING AND PRINT BEST SCORE TRAIN AND TEST**"
      ]
    },
    {
      "cell_type": "code",
      "metadata": {
        "colab": {
          "base_uri": "https://localhost:8080/"
        },
        "id": "UD3wwHaFidbn",
        "outputId": "99f5ae72-d2ab-47de-fbe5-83b7f4bf08f3"
      },
      "source": [
        "print(model.best_params_)\r\n",
        "print(model.score(X_train, y_train), model.best_score_, model.score(X_test, y_test))"
      ],
      "execution_count": 35,
      "outputs": [
        {
          "output_type": "stream",
          "text": [
            "{'algo__C': 3.907967156822884, 'algo__gamma': 0.008632008168602547, 'prep__numeric__poly__degree': 3, 'prep__numeric__poly__interaction_only': True}\n",
            "0.7459818308874913 0.5251572327044025 0.5083798882681564\n"
          ],
          "name": "stdout"
        }
      ]
    },
    {
      "cell_type": "code",
      "metadata": {
        "id": "BaU8PFBMjEIZ"
      },
      "source": [
        ""
      ],
      "execution_count": null,
      "outputs": []
    },
    {
      "cell_type": "markdown",
      "metadata": {
        "id": "y4w6K9fjjE_x"
      },
      "source": [
        "**PLOT ASSOCIATION MATRIX**"
      ]
    },
    {
      "cell_type": "code",
      "metadata": {
        "id": "5TFREYefhV9F"
      },
      "source": [
        "from jcopml.plot import plot_association_matrix"
      ],
      "execution_count": 36,
      "outputs": []
    },
    {
      "cell_type": "code",
      "metadata": {
        "colab": {
          "base_uri": "https://localhost:8080/",
          "height": 621,
          "referenced_widgets": [
            "e32ffda9cbcc4cfd9ffe312c472da626",
            "6a6c1e0f80f84dd281006da8b1a1b16e",
            "1e656e89bf74417c8dac76656f693454",
            "712ad5072ad24433aa6edbc03270325a",
            "a974440cfb31432ba62b388755da9471",
            "59c0e1f9911f4a04bcb843281f1cd5ee",
            "fdba3337c64a48bcb2b18a9ba0b4fc6e",
            "8771e0627c6c428a8f888f4a41e0dbd4",
            "f55d5322a6cb4ef6808b09bd8497719d",
            "b894f03a075f4bc2bfa222f6c6a5315d",
            "08808ae9ea2d4d54b7093fcdfea10887",
            "957501d28dc34b0fb4421f3377ebca6c",
            "aad2ed6ce04e49469d4ba888a1f04f68",
            "d906f1f7033e42e8a360987d1ad919c5"
          ]
        },
        "id": "qOjiIzo-AoJL",
        "outputId": "8eaa8938-a0e7-46e1-cb2b-3c9e40f692f1"
      },
      "source": [
        "plot_association_matrix(df , 'Best Performance' , categoric_col =  ['job_level','person_level', 'Employee_type','gender','achievement_target_1', 'achievement_target_2', 'achievement_target_3',\r\n",
        "        'marital_status_maried(Y/N)','Education_level', \r\n",
        "         'year_graduated'\r\n",
        "         ])"
      ],
      "execution_count": 38,
      "outputs": [
        {
          "output_type": "display_data",
          "data": {
            "application/vnd.jupyter.widget-view+json": {
              "model_id": "e32ffda9cbcc4cfd9ffe312c472da626",
              "version_minor": 0,
              "version_major": 2
            },
            "text/plain": [
              "interactive(children=(ToggleButtons(description='method', options=(\"Cramer's V\", 'Proficiency U(X|Y)', 'Profic…"
            ]
          },
          "metadata": {
            "tags": []
          }
        }
      ]
    },
    {
      "cell_type": "code",
      "metadata": {
        "colab": {
          "base_uri": "https://localhost:8080/",
          "height": 241
        },
        "id": "HE8my7B6lu2n",
        "outputId": "6a1df950-51db-4919-e53b-3ecfef1d98f6"
      },
      "source": [
        "test = pd.read_csv(\"test.csv\")\r\n",
        "test.head()"
      ],
      "execution_count": null,
      "outputs": [
        {
          "output_type": "execute_result",
          "data": {
            "text/html": [
              "<div>\n",
              "<style scoped>\n",
              "    .dataframe tbody tr th:only-of-type {\n",
              "        vertical-align: middle;\n",
              "    }\n",
              "\n",
              "    .dataframe tbody tr th {\n",
              "        vertical-align: top;\n",
              "    }\n",
              "\n",
              "    .dataframe thead th {\n",
              "        text-align: right;\n",
              "    }\n",
              "</style>\n",
              "<table border=\"1\" class=\"dataframe\">\n",
              "  <thead>\n",
              "    <tr style=\"text-align: right;\">\n",
              "      <th></th>\n",
              "      <th>job_level</th>\n",
              "      <th>job_duration_in_current_job_level</th>\n",
              "      <th>person_level</th>\n",
              "      <th>job_duration_in_current_person_level</th>\n",
              "      <th>job_duration_in_current_branch</th>\n",
              "      <th>Employee_type</th>\n",
              "      <th>Employee_status</th>\n",
              "      <th>gender</th>\n",
              "      <th>age</th>\n",
              "      <th>marital_status_maried(Y/N)</th>\n",
              "      <th>number_of_dependences</th>\n",
              "      <th>number_of_dependences (male)</th>\n",
              "      <th>number_of_dependences (female)</th>\n",
              "      <th>Education_level</th>\n",
              "      <th>GPA</th>\n",
              "      <th>year_graduated</th>\n",
              "      <th>job_duration_as_permanent_worker</th>\n",
              "      <th>job_duration_from_training</th>\n",
              "      <th>branch_rotation</th>\n",
              "      <th>job_rotation</th>\n",
              "      <th>assign_of_otherposition</th>\n",
              "      <th>annual leave</th>\n",
              "      <th>sick_leaves</th>\n",
              "      <th>Avg_achievement_%</th>\n",
              "      <th>Last_achievement_%</th>\n",
              "      <th>Achievement_above_100%_during3quartal</th>\n",
              "      <th>achievement_target_1</th>\n",
              "      <th>achievement_target_2</th>\n",
              "      <th>achievement_target_3</th>\n",
              "    </tr>\n",
              "  </thead>\n",
              "  <tbody>\n",
              "    <tr>\n",
              "      <th>0</th>\n",
              "      <td>JG05</td>\n",
              "      <td>1.42</td>\n",
              "      <td>PG05</td>\n",
              "      <td>1.42</td>\n",
              "      <td>0.5</td>\n",
              "      <td>RM_type_C</td>\n",
              "      <td>Permanent</td>\n",
              "      <td>Female</td>\n",
              "      <td>1983</td>\n",
              "      <td>Y</td>\n",
              "      <td>2</td>\n",
              "      <td>1</td>\n",
              "      <td>1</td>\n",
              "      <td>level_3</td>\n",
              "      <td>3.75</td>\n",
              "      <td>2004</td>\n",
              "      <td>13.0</td>\n",
              "      <td>14</td>\n",
              "      <td>7</td>\n",
              "      <td>9</td>\n",
              "      <td>1</td>\n",
              "      <td>3</td>\n",
              "      <td>1</td>\n",
              "      <td>79.506667</td>\n",
              "      <td>94.17</td>\n",
              "      <td>1.0</td>\n",
              "      <td>achiev_50%-100%</td>\n",
              "      <td>achiev_&lt; 50%</td>\n",
              "      <td>reached</td>\n",
              "    </tr>\n",
              "    <tr>\n",
              "      <th>1</th>\n",
              "      <td>JG04</td>\n",
              "      <td>1.58</td>\n",
              "      <td>PG03</td>\n",
              "      <td>1.58</td>\n",
              "      <td>2.0</td>\n",
              "      <td>RM_type_A</td>\n",
              "      <td>Permanent</td>\n",
              "      <td>Male</td>\n",
              "      <td>1988</td>\n",
              "      <td>N</td>\n",
              "      <td>0</td>\n",
              "      <td>0</td>\n",
              "      <td>0</td>\n",
              "      <td>level_4</td>\n",
              "      <td>3.07</td>\n",
              "      <td>2011</td>\n",
              "      <td>4.0</td>\n",
              "      <td>4</td>\n",
              "      <td>2</td>\n",
              "      <td>2</td>\n",
              "      <td>2</td>\n",
              "      <td>4</td>\n",
              "      <td>1</td>\n",
              "      <td>54.283333</td>\n",
              "      <td>42.97</td>\n",
              "      <td>0.0</td>\n",
              "      <td>Pencapaian &lt; 50%</td>\n",
              "      <td>Pencapaian &lt; 50%</td>\n",
              "      <td>reached</td>\n",
              "    </tr>\n",
              "    <tr>\n",
              "      <th>2</th>\n",
              "      <td>JG04</td>\n",
              "      <td>1.83</td>\n",
              "      <td>PG03</td>\n",
              "      <td>1.83</td>\n",
              "      <td>1.5</td>\n",
              "      <td>RM_type_A</td>\n",
              "      <td>Permanent</td>\n",
              "      <td>Male</td>\n",
              "      <td>1988</td>\n",
              "      <td>Y</td>\n",
              "      <td>1</td>\n",
              "      <td>0</td>\n",
              "      <td>1</td>\n",
              "      <td>level_4</td>\n",
              "      <td>3.23</td>\n",
              "      <td>2011</td>\n",
              "      <td>4.0</td>\n",
              "      <td>4</td>\n",
              "      <td>3</td>\n",
              "      <td>2</td>\n",
              "      <td>0</td>\n",
              "      <td>2</td>\n",
              "      <td>0</td>\n",
              "      <td>43.016667</td>\n",
              "      <td>44.28</td>\n",
              "      <td>0.0</td>\n",
              "      <td>achiev_50%-100%</td>\n",
              "      <td>achiev_&lt; 50%</td>\n",
              "      <td>reached</td>\n",
              "    </tr>\n",
              "    <tr>\n",
              "      <th>3</th>\n",
              "      <td>JG05</td>\n",
              "      <td>8.00</td>\n",
              "      <td>PG06</td>\n",
              "      <td>5.00</td>\n",
              "      <td>1.5</td>\n",
              "      <td>RM_type_A</td>\n",
              "      <td>Permanent</td>\n",
              "      <td>Male</td>\n",
              "      <td>1973</td>\n",
              "      <td>Y</td>\n",
              "      <td>3</td>\n",
              "      <td>2</td>\n",
              "      <td>1</td>\n",
              "      <td>level_4</td>\n",
              "      <td>0.00</td>\n",
              "      <td>\\N</td>\n",
              "      <td>22.0</td>\n",
              "      <td>22</td>\n",
              "      <td>8</td>\n",
              "      <td>5</td>\n",
              "      <td>11</td>\n",
              "      <td>3</td>\n",
              "      <td>0</td>\n",
              "      <td>74.390000</td>\n",
              "      <td>80.93</td>\n",
              "      <td>0.0</td>\n",
              "      <td>Pencapaian 50%-100%</td>\n",
              "      <td>Pencapaian &lt; 50%</td>\n",
              "      <td>not reached</td>\n",
              "    </tr>\n",
              "    <tr>\n",
              "      <th>4</th>\n",
              "      <td>JG04</td>\n",
              "      <td>1.92</td>\n",
              "      <td>PG03</td>\n",
              "      <td>1.92</td>\n",
              "      <td>0.5</td>\n",
              "      <td>RM_type_A</td>\n",
              "      <td>Permanent</td>\n",
              "      <td>Female</td>\n",
              "      <td>1985</td>\n",
              "      <td>Y</td>\n",
              "      <td>1</td>\n",
              "      <td>1</td>\n",
              "      <td>0</td>\n",
              "      <td>level_3</td>\n",
              "      <td>3.86</td>\n",
              "      <td>2008</td>\n",
              "      <td>6.0</td>\n",
              "      <td>6</td>\n",
              "      <td>6</td>\n",
              "      <td>3</td>\n",
              "      <td>0</td>\n",
              "      <td>3</td>\n",
              "      <td>0</td>\n",
              "      <td>106.376667</td>\n",
              "      <td>109.09</td>\n",
              "      <td>3.0</td>\n",
              "      <td>Pencapaian 50%-100%</td>\n",
              "      <td>Pencapaian &gt; 1.5</td>\n",
              "      <td>reached</td>\n",
              "    </tr>\n",
              "  </tbody>\n",
              "</table>\n",
              "</div>"
            ],
            "text/plain": [
              "  job_level  job_duration_in_current_job_level person_level  \\\n",
              "0      JG05                               1.42         PG05   \n",
              "1      JG04                               1.58         PG03   \n",
              "2      JG04                               1.83         PG03   \n",
              "3      JG05                               8.00         PG06   \n",
              "4      JG04                               1.92         PG03   \n",
              "\n",
              "   job_duration_in_current_person_level  job_duration_in_current_branch  \\\n",
              "0                                  1.42                             0.5   \n",
              "1                                  1.58                             2.0   \n",
              "2                                  1.83                             1.5   \n",
              "3                                  5.00                             1.5   \n",
              "4                                  1.92                             0.5   \n",
              "\n",
              "  Employee_type Employee_status  gender   age marital_status_maried(Y/N)  \\\n",
              "0     RM_type_C       Permanent  Female  1983                          Y   \n",
              "1     RM_type_A       Permanent    Male  1988                          N   \n",
              "2     RM_type_A       Permanent    Male  1988                          Y   \n",
              "3     RM_type_A       Permanent    Male  1973                          Y   \n",
              "4     RM_type_A       Permanent  Female  1985                          Y   \n",
              "\n",
              "   number_of_dependences  number_of_dependences (male)  \\\n",
              "0                      2                             1   \n",
              "1                      0                             0   \n",
              "2                      1                             0   \n",
              "3                      3                             2   \n",
              "4                      1                             1   \n",
              "\n",
              "   number_of_dependences (female) Education_level   GPA year_graduated  \\\n",
              "0                               1         level_3  3.75           2004   \n",
              "1                               0         level_4  3.07           2011   \n",
              "2                               1         level_4  3.23           2011   \n",
              "3                               1         level_4  0.00             \\N   \n",
              "4                               0         level_3  3.86           2008   \n",
              "\n",
              "   job_duration_as_permanent_worker  job_duration_from_training  \\\n",
              "0                              13.0                          14   \n",
              "1                               4.0                           4   \n",
              "2                               4.0                           4   \n",
              "3                              22.0                          22   \n",
              "4                               6.0                           6   \n",
              "\n",
              "   branch_rotation  job_rotation  assign_of_otherposition  annual leave  \\\n",
              "0                7             9                        1             3   \n",
              "1                2             2                        2             4   \n",
              "2                3             2                        0             2   \n",
              "3                8             5                       11             3   \n",
              "4                6             3                        0             3   \n",
              "\n",
              "   sick_leaves  Avg_achievement_%  Last_achievement_%  \\\n",
              "0            1          79.506667               94.17   \n",
              "1            1          54.283333               42.97   \n",
              "2            0          43.016667               44.28   \n",
              "3            0          74.390000               80.93   \n",
              "4            0         106.376667              109.09   \n",
              "\n",
              "   Achievement_above_100%_during3quartal achievement_target_1  \\\n",
              "0                                    1.0      achiev_50%-100%   \n",
              "1                                    0.0     Pencapaian < 50%   \n",
              "2                                    0.0      achiev_50%-100%   \n",
              "3                                    0.0  Pencapaian 50%-100%   \n",
              "4                                    3.0  Pencapaian 50%-100%   \n",
              "\n",
              "  achievement_target_2 achievement_target_3  \n",
              "0         achiev_< 50%              reached  \n",
              "1     Pencapaian < 50%              reached  \n",
              "2         achiev_< 50%              reached  \n",
              "3     Pencapaian < 50%          not reached  \n",
              "4     Pencapaian > 1.5              reached  "
            ]
          },
          "metadata": {
            "tags": []
          },
          "execution_count": 145
        }
      ]
    },
    {
      "cell_type": "code",
      "metadata": {
        "id": "xwAZnCqQlu4N"
      },
      "source": [
        "Y_pred = model.predict(test)"
      ],
      "execution_count": null,
      "outputs": []
    },
    {
      "cell_type": "code",
      "metadata": {
        "id": "35aVCFhrlu6-"
      },
      "source": [
        "submission = pd.DataFrame({\r\n",
        "        \r\n",
        "        \"Best Performance\": Y_pred\r\n",
        "    })\r\n"
      ],
      "execution_count": null,
      "outputs": []
    },
    {
      "cell_type": "code",
      "metadata": {
        "id": "x0deuDYu9Q4V"
      },
      "source": [
        ""
      ],
      "execution_count": null,
      "outputs": []
    },
    {
      "cell_type": "code",
      "metadata": {
        "id": "Nqz5hgo3lu9N"
      },
      "source": [
        "submission.to_csv('submit-bri-clf.csv',index=\"Best Performance\")"
      ],
      "execution_count": null,
      "outputs": []
    },
    {
      "cell_type": "code",
      "metadata": {
        "colab": {
          "base_uri": "https://localhost:8080/",
          "height": 204
        },
        "id": "xAcYJkgclu_U",
        "outputId": "2b7aea5e-70f1-437a-bf54-7c323a91e7f0"
      },
      "source": [
        "test= pd.read_csv('submit-bri-clf.csv')\r\n",
        "test.head()"
      ],
      "execution_count": null,
      "outputs": [
        {
          "output_type": "execute_result",
          "data": {
            "text/html": [
              "<div>\n",
              "<style scoped>\n",
              "    .dataframe tbody tr th:only-of-type {\n",
              "        vertical-align: middle;\n",
              "    }\n",
              "\n",
              "    .dataframe tbody tr th {\n",
              "        vertical-align: top;\n",
              "    }\n",
              "\n",
              "    .dataframe thead th {\n",
              "        text-align: right;\n",
              "    }\n",
              "</style>\n",
              "<table border=\"1\" class=\"dataframe\">\n",
              "  <thead>\n",
              "    <tr style=\"text-align: right;\">\n",
              "      <th></th>\n",
              "      <th>Unnamed: 0</th>\n",
              "      <th>Best Performance</th>\n",
              "    </tr>\n",
              "  </thead>\n",
              "  <tbody>\n",
              "    <tr>\n",
              "      <th>0</th>\n",
              "      <td>0</td>\n",
              "      <td>0</td>\n",
              "    </tr>\n",
              "    <tr>\n",
              "      <th>1</th>\n",
              "      <td>1</td>\n",
              "      <td>0</td>\n",
              "    </tr>\n",
              "    <tr>\n",
              "      <th>2</th>\n",
              "      <td>2</td>\n",
              "      <td>0</td>\n",
              "    </tr>\n",
              "    <tr>\n",
              "      <th>3</th>\n",
              "      <td>3</td>\n",
              "      <td>0</td>\n",
              "    </tr>\n",
              "    <tr>\n",
              "      <th>4</th>\n",
              "      <td>4</td>\n",
              "      <td>0</td>\n",
              "    </tr>\n",
              "  </tbody>\n",
              "</table>\n",
              "</div>"
            ],
            "text/plain": [
              "   Unnamed: 0  Best Performance\n",
              "0           0                 0\n",
              "1           1                 0\n",
              "2           2                 0\n",
              "3           3                 0\n",
              "4           4                 0"
            ]
          },
          "metadata": {
            "tags": []
          },
          "execution_count": 149
        }
      ]
    },
    {
      "cell_type": "code",
      "metadata": {
        "id": "S_iRlQ1RlvB_"
      },
      "source": [
        "test.rename(columns = {'Unnamed: 0':'index'}, inplace = True)"
      ],
      "execution_count": null,
      "outputs": []
    },
    {
      "cell_type": "code",
      "metadata": {
        "id": "7DF-LXlAlvET"
      },
      "source": [
        "test.set_index('index', inplace=True)"
      ],
      "execution_count": null,
      "outputs": []
    },
    {
      "cell_type": "code",
      "metadata": {
        "id": "pd-gRzvPlvGW"
      },
      "source": [
        "test.to_csv('submit-bri-clf.csv',index=\"index\")"
      ],
      "execution_count": null,
      "outputs": []
    },
    {
      "cell_type": "code",
      "metadata": {
        "id": "HsTvwKxflvIx"
      },
      "source": [
        ""
      ],
      "execution_count": null,
      "outputs": []
    },
    {
      "cell_type": "code",
      "metadata": {
        "id": "TfKg9PHalvKz"
      },
      "source": [
        ""
      ],
      "execution_count": null,
      "outputs": []
    },
    {
      "cell_type": "code",
      "metadata": {
        "id": "aF7oerqElvMm"
      },
      "source": [
        ""
      ],
      "execution_count": null,
      "outputs": []
    },
    {
      "cell_type": "code",
      "metadata": {
        "id": "LVv0Lhvklraz"
      },
      "source": [
        ""
      ],
      "execution_count": null,
      "outputs": []
    },
    {
      "cell_type": "code",
      "metadata": {
        "id": "BjsyXI3vlrdo"
      },
      "source": [
        ""
      ],
      "execution_count": null,
      "outputs": []
    },
    {
      "cell_type": "code",
      "metadata": {
        "id": "ov3S7mGrlrh9"
      },
      "source": [
        ""
      ],
      "execution_count": null,
      "outputs": []
    },
    {
      "cell_type": "code",
      "metadata": {
        "id": "oom1Rd0tlrlV"
      },
      "source": [
        ""
      ],
      "execution_count": null,
      "outputs": []
    },
    {
      "cell_type": "code",
      "metadata": {
        "id": "wOqcs6c4lroP"
      },
      "source": [
        ""
      ],
      "execution_count": null,
      "outputs": []
    },
    {
      "cell_type": "code",
      "metadata": {
        "id": "vmsTkTJhlrqq"
      },
      "source": [
        ""
      ],
      "execution_count": null,
      "outputs": []
    },
    {
      "cell_type": "code",
      "metadata": {
        "id": "Oz26gDkulrtO"
      },
      "source": [
        ""
      ],
      "execution_count": null,
      "outputs": []
    },
    {
      "cell_type": "code",
      "metadata": {
        "id": "PExeLRxQlrvn"
      },
      "source": [
        ""
      ],
      "execution_count": null,
      "outputs": []
    },
    {
      "cell_type": "code",
      "metadata": {
        "id": "qlL78hJGlr0V"
      },
      "source": [
        ""
      ],
      "execution_count": null,
      "outputs": []
    },
    {
      "cell_type": "code",
      "metadata": {
        "id": "s-Kc9QAslr5o"
      },
      "source": [
        ""
      ],
      "execution_count": null,
      "outputs": []
    },
    {
      "cell_type": "code",
      "metadata": {
        "id": "t6QgcE4mlr8K"
      },
      "source": [
        ""
      ],
      "execution_count": null,
      "outputs": []
    },
    {
      "cell_type": "code",
      "metadata": {
        "id": "GpuGoZHulr-1"
      },
      "source": [
        ""
      ],
      "execution_count": null,
      "outputs": []
    },
    {
      "cell_type": "code",
      "metadata": {
        "id": "xegTGqS0lsBQ"
      },
      "source": [
        ""
      ],
      "execution_count": null,
      "outputs": []
    },
    {
      "cell_type": "code",
      "metadata": {
        "id": "K4qAFczDlsDl"
      },
      "source": [
        ""
      ],
      "execution_count": null,
      "outputs": []
    },
    {
      "cell_type": "code",
      "metadata": {
        "id": "SksMIv92lsF_"
      },
      "source": [
        ""
      ],
      "execution_count": null,
      "outputs": []
    },
    {
      "cell_type": "code",
      "metadata": {
        "id": "ld6qcGcNlsIt"
      },
      "source": [
        ""
      ],
      "execution_count": null,
      "outputs": []
    },
    {
      "cell_type": "code",
      "metadata": {
        "id": "_LeKrMsqlsNV"
      },
      "source": [
        ""
      ],
      "execution_count": null,
      "outputs": []
    },
    {
      "cell_type": "code",
      "metadata": {
        "id": "k1Wnbr6YlsQH"
      },
      "source": [
        ""
      ],
      "execution_count": null,
      "outputs": []
    },
    {
      "cell_type": "code",
      "metadata": {
        "id": "vFpyaQfMlsS4"
      },
      "source": [
        ""
      ],
      "execution_count": null,
      "outputs": []
    },
    {
      "cell_type": "code",
      "metadata": {
        "id": "FvrTAyQQlsVG"
      },
      "source": [
        ""
      ],
      "execution_count": null,
      "outputs": []
    },
    {
      "cell_type": "code",
      "metadata": {
        "id": "dYQ27pVGlsXq"
      },
      "source": [
        ""
      ],
      "execution_count": null,
      "outputs": []
    },
    {
      "cell_type": "code",
      "metadata": {
        "id": "0nWF0gJrlsaG"
      },
      "source": [
        ""
      ],
      "execution_count": null,
      "outputs": []
    },
    {
      "cell_type": "code",
      "metadata": {
        "id": "s3EIjf6xlsc3"
      },
      "source": [
        ""
      ],
      "execution_count": null,
      "outputs": []
    },
    {
      "cell_type": "code",
      "metadata": {
        "id": "76sLQI6SlsfX"
      },
      "source": [
        ""
      ],
      "execution_count": null,
      "outputs": []
    },
    {
      "cell_type": "code",
      "metadata": {
        "id": "Q0Rn8RCJlsi_"
      },
      "source": [
        ""
      ],
      "execution_count": null,
      "outputs": []
    },
    {
      "cell_type": "code",
      "metadata": {
        "id": "anF4s9Uplsla"
      },
      "source": [
        ""
      ],
      "execution_count": null,
      "outputs": []
    },
    {
      "cell_type": "code",
      "metadata": {
        "id": "MlrSVUfWlsob"
      },
      "source": [
        ""
      ],
      "execution_count": null,
      "outputs": []
    },
    {
      "cell_type": "code",
      "metadata": {
        "id": "KT2gNTxhlsqz"
      },
      "source": [
        ""
      ],
      "execution_count": null,
      "outputs": []
    },
    {
      "cell_type": "code",
      "metadata": {
        "id": "zYOqc9Xllstp"
      },
      "source": [
        ""
      ],
      "execution_count": null,
      "outputs": []
    },
    {
      "cell_type": "code",
      "metadata": {
        "id": "3QzRwvZylswF"
      },
      "source": [
        ""
      ],
      "execution_count": null,
      "outputs": []
    },
    {
      "cell_type": "code",
      "metadata": {
        "id": "55MoGtiElszE"
      },
      "source": [
        ""
      ],
      "execution_count": null,
      "outputs": []
    },
    {
      "cell_type": "code",
      "metadata": {
        "id": "S8y4g_5mls1-"
      },
      "source": [
        ""
      ],
      "execution_count": null,
      "outputs": []
    },
    {
      "cell_type": "code",
      "metadata": {
        "id": "kiqXUqGZls4Y"
      },
      "source": [
        ""
      ],
      "execution_count": null,
      "outputs": []
    },
    {
      "cell_type": "code",
      "metadata": {
        "id": "kR6gVezCls7M"
      },
      "source": [
        ""
      ],
      "execution_count": null,
      "outputs": []
    },
    {
      "cell_type": "code",
      "metadata": {
        "id": "r_FIJRqPls9-"
      },
      "source": [
        ""
      ],
      "execution_count": null,
      "outputs": []
    },
    {
      "cell_type": "code",
      "metadata": {
        "id": "k1XP81CZltBK"
      },
      "source": [
        ""
      ],
      "execution_count": null,
      "outputs": []
    },
    {
      "cell_type": "code",
      "metadata": {
        "id": "3TUKiYmkltDr"
      },
      "source": [
        ""
      ],
      "execution_count": null,
      "outputs": []
    },
    {
      "cell_type": "code",
      "metadata": {
        "id": "NS1IkN8vltGo"
      },
      "source": [
        ""
      ],
      "execution_count": null,
      "outputs": []
    },
    {
      "cell_type": "code",
      "metadata": {
        "id": "rF0xoXHoltIv"
      },
      "source": [
        ""
      ],
      "execution_count": null,
      "outputs": []
    },
    {
      "cell_type": "code",
      "metadata": {
        "id": "QHEvfoAzltLo"
      },
      "source": [
        ""
      ],
      "execution_count": null,
      "outputs": []
    },
    {
      "cell_type": "code",
      "metadata": {
        "id": "g1eQewaUltOD"
      },
      "source": [
        ""
      ],
      "execution_count": null,
      "outputs": []
    },
    {
      "cell_type": "code",
      "metadata": {
        "id": "onfkhPoHltQr"
      },
      "source": [
        ""
      ],
      "execution_count": null,
      "outputs": []
    },
    {
      "cell_type": "code",
      "metadata": {
        "id": "bWSpN9nultTA"
      },
      "source": [
        ""
      ],
      "execution_count": null,
      "outputs": []
    },
    {
      "cell_type": "code",
      "metadata": {
        "id": "eu7CVJjiltWh"
      },
      "source": [
        ""
      ],
      "execution_count": null,
      "outputs": []
    },
    {
      "cell_type": "code",
      "metadata": {
        "id": "UsWeXkNxltYK"
      },
      "source": [
        ""
      ],
      "execution_count": null,
      "outputs": []
    },
    {
      "cell_type": "code",
      "metadata": {
        "id": "9A-6S6ZeltbJ"
      },
      "source": [
        ""
      ],
      "execution_count": null,
      "outputs": []
    },
    {
      "cell_type": "code",
      "metadata": {
        "id": "r4ybWOE7ltdI"
      },
      "source": [
        ""
      ],
      "execution_count": null,
      "outputs": []
    },
    {
      "cell_type": "code",
      "metadata": {
        "id": "dFNiMZsFltfY"
      },
      "source": [
        ""
      ],
      "execution_count": null,
      "outputs": []
    },
    {
      "cell_type": "code",
      "metadata": {
        "id": "TTVWHmQyltiM"
      },
      "source": [
        ""
      ],
      "execution_count": null,
      "outputs": []
    },
    {
      "cell_type": "code",
      "metadata": {
        "id": "iwHBZt-wltky"
      },
      "source": [
        ""
      ],
      "execution_count": null,
      "outputs": []
    },
    {
      "cell_type": "code",
      "metadata": {
        "id": "Wu6buEJPltmq"
      },
      "source": [
        ""
      ],
      "execution_count": null,
      "outputs": []
    }
  ]
}